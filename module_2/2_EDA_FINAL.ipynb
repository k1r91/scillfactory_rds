{
 "cells": [
  {
   "cell_type": "code",
   "execution_count": 125,
   "metadata": {},
   "outputs": [],
   "source": [
    "import pandas as pd\n",
    "import matplotlib.pyplot as plt\n",
    "import seaborn as sns\n",
    "import numpy as np\n",
    "from itertools import combinations\n",
    "from scipy.stats import ttest_ind\n",
    "\n",
    "pd.set_option('display.max_rows', 50)\n",
    "pd.set_option('display.max_columns', 50)\n",
    "np.random.seed(1024)"
   ]
  },
  {
   "cell_type": "code",
   "execution_count": 126,
   "metadata": {},
   "outputs": [
    {
     "data": {
      "text/html": [
       "<div>\n",
       "<style scoped>\n",
       "    .dataframe tbody tr th:only-of-type {\n",
       "        vertical-align: middle;\n",
       "    }\n",
       "\n",
       "    .dataframe tbody tr th {\n",
       "        vertical-align: top;\n",
       "    }\n",
       "\n",
       "    .dataframe thead th {\n",
       "        text-align: right;\n",
       "    }\n",
       "</style>\n",
       "<table border=\"1\" class=\"dataframe\">\n",
       "  <thead>\n",
       "    <tr style=\"text-align: right;\">\n",
       "      <th></th>\n",
       "      <th>school</th>\n",
       "      <th>sex</th>\n",
       "      <th>age</th>\n",
       "      <th>address</th>\n",
       "      <th>famsize</th>\n",
       "      <th>Pstatus</th>\n",
       "      <th>Medu</th>\n",
       "      <th>Fedu</th>\n",
       "      <th>Mjob</th>\n",
       "      <th>Fjob</th>\n",
       "      <th>reason</th>\n",
       "      <th>guardian</th>\n",
       "      <th>traveltime</th>\n",
       "      <th>studytime</th>\n",
       "      <th>failures</th>\n",
       "      <th>schoolsup</th>\n",
       "      <th>famsup</th>\n",
       "      <th>paid</th>\n",
       "      <th>activities</th>\n",
       "      <th>nursery</th>\n",
       "      <th>studytime, granular</th>\n",
       "      <th>higher</th>\n",
       "      <th>internet</th>\n",
       "      <th>romantic</th>\n",
       "      <th>famrel</th>\n",
       "      <th>freetime</th>\n",
       "      <th>goout</th>\n",
       "      <th>health</th>\n",
       "      <th>absences</th>\n",
       "      <th>score</th>\n",
       "    </tr>\n",
       "  </thead>\n",
       "  <tbody>\n",
       "    <tr>\n",
       "      <th>0</th>\n",
       "      <td>GP</td>\n",
       "      <td>F</td>\n",
       "      <td>18</td>\n",
       "      <td>U</td>\n",
       "      <td>NaN</td>\n",
       "      <td>A</td>\n",
       "      <td>4.0</td>\n",
       "      <td>4.0</td>\n",
       "      <td>at_home</td>\n",
       "      <td>teacher</td>\n",
       "      <td>course</td>\n",
       "      <td>mother</td>\n",
       "      <td>2.0</td>\n",
       "      <td>2.0</td>\n",
       "      <td>0.0</td>\n",
       "      <td>yes</td>\n",
       "      <td>no</td>\n",
       "      <td>no</td>\n",
       "      <td>no</td>\n",
       "      <td>yes</td>\n",
       "      <td>-6.0</td>\n",
       "      <td>yes</td>\n",
       "      <td>NaN</td>\n",
       "      <td>no</td>\n",
       "      <td>4.0</td>\n",
       "      <td>3.0</td>\n",
       "      <td>4.0</td>\n",
       "      <td>3.0</td>\n",
       "      <td>6.0</td>\n",
       "      <td>30.0</td>\n",
       "    </tr>\n",
       "    <tr>\n",
       "      <th>1</th>\n",
       "      <td>GP</td>\n",
       "      <td>F</td>\n",
       "      <td>17</td>\n",
       "      <td>U</td>\n",
       "      <td>GT3</td>\n",
       "      <td>NaN</td>\n",
       "      <td>1.0</td>\n",
       "      <td>1.0</td>\n",
       "      <td>at_home</td>\n",
       "      <td>other</td>\n",
       "      <td>course</td>\n",
       "      <td>father</td>\n",
       "      <td>1.0</td>\n",
       "      <td>2.0</td>\n",
       "      <td>0.0</td>\n",
       "      <td>no</td>\n",
       "      <td>yes</td>\n",
       "      <td>no</td>\n",
       "      <td>no</td>\n",
       "      <td>no</td>\n",
       "      <td>-6.0</td>\n",
       "      <td>yes</td>\n",
       "      <td>yes</td>\n",
       "      <td>no</td>\n",
       "      <td>5.0</td>\n",
       "      <td>3.0</td>\n",
       "      <td>3.0</td>\n",
       "      <td>3.0</td>\n",
       "      <td>4.0</td>\n",
       "      <td>30.0</td>\n",
       "    </tr>\n",
       "    <tr>\n",
       "      <th>2</th>\n",
       "      <td>GP</td>\n",
       "      <td>F</td>\n",
       "      <td>15</td>\n",
       "      <td>U</td>\n",
       "      <td>LE3</td>\n",
       "      <td>T</td>\n",
       "      <td>1.0</td>\n",
       "      <td>1.0</td>\n",
       "      <td>at_home</td>\n",
       "      <td>other</td>\n",
       "      <td>other</td>\n",
       "      <td>mother</td>\n",
       "      <td>1.0</td>\n",
       "      <td>2.0</td>\n",
       "      <td>3.0</td>\n",
       "      <td>yes</td>\n",
       "      <td>no</td>\n",
       "      <td>NaN</td>\n",
       "      <td>no</td>\n",
       "      <td>yes</td>\n",
       "      <td>-6.0</td>\n",
       "      <td>yes</td>\n",
       "      <td>yes</td>\n",
       "      <td>NaN</td>\n",
       "      <td>4.0</td>\n",
       "      <td>3.0</td>\n",
       "      <td>2.0</td>\n",
       "      <td>3.0</td>\n",
       "      <td>10.0</td>\n",
       "      <td>50.0</td>\n",
       "    </tr>\n",
       "    <tr>\n",
       "      <th>3</th>\n",
       "      <td>GP</td>\n",
       "      <td>F</td>\n",
       "      <td>15</td>\n",
       "      <td>U</td>\n",
       "      <td>GT3</td>\n",
       "      <td>T</td>\n",
       "      <td>4.0</td>\n",
       "      <td>2.0</td>\n",
       "      <td>health</td>\n",
       "      <td>NaN</td>\n",
       "      <td>home</td>\n",
       "      <td>mother</td>\n",
       "      <td>1.0</td>\n",
       "      <td>3.0</td>\n",
       "      <td>0.0</td>\n",
       "      <td>no</td>\n",
       "      <td>yes</td>\n",
       "      <td>yes</td>\n",
       "      <td>yes</td>\n",
       "      <td>yes</td>\n",
       "      <td>-9.0</td>\n",
       "      <td>yes</td>\n",
       "      <td>yes</td>\n",
       "      <td>yes</td>\n",
       "      <td>3.0</td>\n",
       "      <td>2.0</td>\n",
       "      <td>2.0</td>\n",
       "      <td>5.0</td>\n",
       "      <td>2.0</td>\n",
       "      <td>75.0</td>\n",
       "    </tr>\n",
       "    <tr>\n",
       "      <th>4</th>\n",
       "      <td>GP</td>\n",
       "      <td>F</td>\n",
       "      <td>16</td>\n",
       "      <td>U</td>\n",
       "      <td>GT3</td>\n",
       "      <td>T</td>\n",
       "      <td>3.0</td>\n",
       "      <td>3.0</td>\n",
       "      <td>other</td>\n",
       "      <td>other</td>\n",
       "      <td>home</td>\n",
       "      <td>father</td>\n",
       "      <td>1.0</td>\n",
       "      <td>2.0</td>\n",
       "      <td>0.0</td>\n",
       "      <td>no</td>\n",
       "      <td>yes</td>\n",
       "      <td>yes</td>\n",
       "      <td>no</td>\n",
       "      <td>yes</td>\n",
       "      <td>-6.0</td>\n",
       "      <td>yes</td>\n",
       "      <td>no</td>\n",
       "      <td>no</td>\n",
       "      <td>4.0</td>\n",
       "      <td>3.0</td>\n",
       "      <td>2.0</td>\n",
       "      <td>5.0</td>\n",
       "      <td>4.0</td>\n",
       "      <td>50.0</td>\n",
       "    </tr>\n",
       "  </tbody>\n",
       "</table>\n",
       "</div>"
      ],
      "text/plain": [
       "  school sex  age address famsize Pstatus  Medu  Fedu     Mjob     Fjob  \\\n",
       "0     GP   F   18       U     NaN       A   4.0   4.0  at_home  teacher   \n",
       "1     GP   F   17       U     GT3     NaN   1.0   1.0  at_home    other   \n",
       "2     GP   F   15       U     LE3       T   1.0   1.0  at_home    other   \n",
       "3     GP   F   15       U     GT3       T   4.0   2.0   health      NaN   \n",
       "4     GP   F   16       U     GT3       T   3.0   3.0    other    other   \n",
       "\n",
       "   reason guardian  traveltime  studytime  failures schoolsup famsup paid  \\\n",
       "0  course   mother         2.0        2.0       0.0       yes     no   no   \n",
       "1  course   father         1.0        2.0       0.0        no    yes   no   \n",
       "2   other   mother         1.0        2.0       3.0       yes     no  NaN   \n",
       "3    home   mother         1.0        3.0       0.0        no    yes  yes   \n",
       "4    home   father         1.0        2.0       0.0        no    yes  yes   \n",
       "\n",
       "  activities nursery  studytime, granular higher internet romantic  famrel  \\\n",
       "0         no     yes                 -6.0    yes      NaN       no     4.0   \n",
       "1         no      no                 -6.0    yes      yes       no     5.0   \n",
       "2         no     yes                 -6.0    yes      yes      NaN     4.0   \n",
       "3        yes     yes                 -9.0    yes      yes      yes     3.0   \n",
       "4         no     yes                 -6.0    yes       no       no     4.0   \n",
       "\n",
       "   freetime  goout  health  absences  score  \n",
       "0       3.0    4.0     3.0       6.0   30.0  \n",
       "1       3.0    3.0     3.0       4.0   30.0  \n",
       "2       3.0    2.0     3.0      10.0   50.0  \n",
       "3       2.0    2.0     5.0       2.0   75.0  \n",
       "4       3.0    2.0     5.0       4.0   50.0  "
      ]
     },
     "execution_count": 126,
     "metadata": {},
     "output_type": "execute_result"
    }
   ],
   "source": [
    "students = pd.read_csv('stud_math.xls')\n",
    "students.head()"
   ]
  },
  {
   "cell_type": "markdown",
   "metadata": {},
   "source": [
    "# Описание датасета\n",
    "##### 1 school — аббревиатура школы, в которой учится ученик\n",
    "\n",
    "##### 2 sex — пол ученика ('F' - женский, 'M' - мужской)\n",
    "\n",
    "##### 3 age — возраст ученика (от 15 до 22)\n",
    "\n",
    "##### 4 address — тип адреса ученика ('U' - городской, 'R' - за городом)\n",
    "\n",
    "##### 5 famsize — размер семьи('LE3' <= 3, 'GT3' >3)\n",
    "\n",
    "##### 6 Pstatus — статус совместного жилья родителей ('T' - живут вместе 'A' - раздельно)\n",
    "\n",
    "##### 7 Medu — образование матери (0 - нет, 1 - 4 класса, 2 - 5-9 классы, 3 - среднее специальное или 11 классов, 4 - высшее)\n",
    "\n",
    "##### 8 Fedu — образование отца (0 - нет, 1 - 4 класса, 2 - 5-9 классы, 3 - среднее специальное или 11 классов, 4 - высшее)\n",
    "\n",
    "##### 9 Mjob — работа матери ('teacher' - учитель, 'health' - сфера здравоохранения, 'services' - гос служба, 'at_home' - не работает, 'other' - другое)\n",
    "\n",
    "##### 10 Fjob — работа отца ('teacher' - учитель, 'health' - сфера здравоохранения, 'services' - гос служба, 'at_home' - не работает, 'other' - другое)\n",
    "\n",
    "##### 11 reason — причина выбора школы ('home' - близость к дому, 'reputation' - репутация школы, 'course' - образовательная программа, 'other' - другое)\n",
    "\n",
    "##### 12 guardian — опекун ('mother' - мать, 'father' - отец, 'other' - другое)\n",
    "\n",
    "##### 13 traveltime — время в пути до школы (1 - <15 мин., 2 - 15-30 мин., 3 - 30-60 мин., 4 - >60 мин.)\n",
    "\n",
    "##### 14 studytime — время на учёбу помимо школы в неделю (1 - <2 часов, 2 - 2-5 часов, 3 - 5-10 часов, 4 - >10 часов)\n",
    "\n",
    "##### 15 failures — количество внеучебных неудач (n, если 1<=n<3, иначе 0)\n",
    "\n",
    "##### 16 schoolsup — дополнительная образовательная поддержка (yes или no)\n",
    "\n",
    "##### 17 famsup — семейная образовательная поддержка (yes или no)\n",
    "\n",
    "##### 18 paid — дополнительные платные занятия по математике (yes или no)\n",
    "\n",
    "##### 19 activities — дополнительные внеучебные занятия (yes или no)\n",
    "\n",
    "##### 20 nursery — посещал детский сад (yes или no)\n",
    "\n",
    "##### 21 higher — хочет получить высшее образование (yes или no)\n",
    "\n",
    "##### 22 internet — наличие интернета дома (yes или no)\n",
    "\n",
    "##### 23 romantic — в романтических отношениях (yes или no)\n",
    "\n",
    "##### 24 famrel — семейные отношения (от 1 - очень плохо до 5 - очень хорошо)\n",
    "\n",
    "##### 25 freetime — свободное время после школы (от 1 - очень мало до 5 - очень мого)\n",
    "\n",
    "##### 26 goout — проведение времени с друзьями (от 1 - очень мало до 5 - очень много)\n",
    "\n",
    "##### 27 health — текущее состояние здоровья (от 1 - очень плохо до 5 - очень хорошо)\n",
    "\n",
    "##### 28 absences — количество пропущенных занятий\n",
    "\n",
    "##### 29 score — баллы по госэкзамену по математике"
   ]
  },
  {
   "cell_type": "code",
   "execution_count": 127,
   "metadata": {},
   "outputs": [
    {
     "name": "stdout",
     "output_type": "stream",
     "text": [
      "<class 'pandas.core.frame.DataFrame'>\n",
      "RangeIndex: 395 entries, 0 to 394\n",
      "Data columns (total 30 columns):\n",
      " #   Column               Non-Null Count  Dtype  \n",
      "---  ------               --------------  -----  \n",
      " 0   school               395 non-null    object \n",
      " 1   sex                  395 non-null    object \n",
      " 2   age                  395 non-null    int64  \n",
      " 3   address              378 non-null    object \n",
      " 4   famsize              368 non-null    object \n",
      " 5   Pstatus              350 non-null    object \n",
      " 6   Medu                 392 non-null    float64\n",
      " 7   Fedu                 371 non-null    float64\n",
      " 8   Mjob                 376 non-null    object \n",
      " 9   Fjob                 359 non-null    object \n",
      " 10  reason               378 non-null    object \n",
      " 11  guardian             364 non-null    object \n",
      " 12  traveltime           367 non-null    float64\n",
      " 13  studytime            388 non-null    float64\n",
      " 14  failures             373 non-null    float64\n",
      " 15  schoolsup            386 non-null    object \n",
      " 16  famsup               356 non-null    object \n",
      " 17  paid                 355 non-null    object \n",
      " 18  activities           381 non-null    object \n",
      " 19  nursery              379 non-null    object \n",
      " 20  studytime, granular  388 non-null    float64\n",
      " 21  higher               375 non-null    object \n",
      " 22  internet             361 non-null    object \n",
      " 23  romantic             364 non-null    object \n",
      " 24  famrel               368 non-null    float64\n",
      " 25  freetime             384 non-null    float64\n",
      " 26  goout                387 non-null    float64\n",
      " 27  health               380 non-null    float64\n",
      " 28  absences             383 non-null    float64\n",
      " 29  score                389 non-null    float64\n",
      "dtypes: float64(12), int64(1), object(17)\n",
      "memory usage: 92.7+ KB\n"
     ]
    }
   ],
   "source": [
    "students.info()"
   ]
  },
  {
   "cell_type": "markdown",
   "metadata": {},
   "source": [
    "Цель задачи - предсказание балла по госэкзамену по математике.\n",
    "### Анализ целевой переменной"
   ]
  },
  {
   "cell_type": "markdown",
   "metadata": {},
   "source": [
    "Пропущенные значения"
   ]
  },
  {
   "cell_type": "code",
   "execution_count": 128,
   "metadata": {},
   "outputs": [
    {
     "data": {
      "text/plain": [
       "6"
      ]
     },
     "execution_count": 128,
     "metadata": {},
     "output_type": "execute_result"
    }
   ],
   "source": [
    "students.score.isnull().sum()"
   ]
  },
  {
   "cell_type": "code",
   "execution_count": 129,
   "metadata": {},
   "outputs": [
    {
     "data": {
      "text/plain": [
       "50.0     54\n",
       "55.0     46\n",
       "0.0      37\n",
       "75.0     33\n",
       "65.0     31\n",
       "40.0     31\n",
       "60.0     31\n",
       "45.0     27\n",
       "70.0     27\n",
       "80.0     16\n",
       "30.0     15\n",
       "90.0     12\n",
       "35.0      9\n",
       "25.0      7\n",
       "NaN       6\n",
       "85.0      6\n",
       "95.0      5\n",
       "100.0     1\n",
       "20.0      1\n",
       "Name: score, dtype: int64"
      ]
     },
     "execution_count": 129,
     "metadata": {},
     "output_type": "execute_result"
    }
   ],
   "source": [
    "students.score.value_counts(dropna=False)"
   ]
  },
  {
   "cell_type": "markdown",
   "metadata": {},
   "source": [
    "Как видно, много студентов сдали тест на 0, будем считать это плохим уровнем подготовки по математике. \n",
    "6 пропущенных значений - скорее всего студенты не смогли прийти на экзамен. Заменить такие значения логично средним или медианой."
   ]
  },
  {
   "cell_type": "code",
   "execution_count": 130,
   "metadata": {},
   "outputs": [],
   "source": [
    "students.score.fillna(students.score.mean(), inplace=True)\n",
    "# students = students.dropna(subset=['score'])\n",
    "# students = students.drop(students[students.score==0].index)"
   ]
  },
  {
   "cell_type": "code",
   "execution_count": 131,
   "metadata": {},
   "outputs": [
    {
     "data": {
      "text/plain": [
       "<matplotlib.axes._subplots.AxesSubplot at 0x1c7046b2da0>"
      ]
     },
     "execution_count": 131,
     "metadata": {},
     "output_type": "execute_result"
    },
    {
     "data": {
      "image/png": "[encoded data removed]",
      "text/plain": [
       "<Figure size 432x288 with 1 Axes>"
      ]
     },
     "metadata": {
      "needs_background": "light"
     },
     "output_type": "display_data"
    }
   ],
   "source": [
    "students.score.hist()"
   ]
  },
  {
   "cell_type": "code",
   "execution_count": 132,
   "metadata": {},
   "outputs": [
    {
     "data": {
      "text/plain": [
       "0"
      ]
     },
     "execution_count": 132,
     "metadata": {},
     "output_type": "execute_result"
    }
   ],
   "source": [
    "students.score.isnull().sum()"
   ]
  },
  {
   "cell_type": "markdown",
   "metadata": {},
   "source": [
    "## Обработка признаков"
   ]
  },
  {
   "cell_type": "code",
   "execution_count": 133,
   "metadata": {},
   "outputs": [],
   "source": [
    "def get_stat_diff(stat_df: pd.DataFrame, column:str, target: str):\n",
    "    \"\"\"\n",
    "    Анализ статистической значимости тестом Стьюдента\n",
    "    \"\"\"\n",
    "    df = stat_df.dropna(subset=[column])\n",
    "    cols = df.loc[:, column].value_counts().index\n",
    "    combinations_all = list(combinations(cols, 2))\n",
    "    found = False\n",
    "    for comb in combinations_all:\n",
    "        if ttest_ind(df.loc[df.loc[:, column] == comb[0], target], \n",
    "                        df.loc[df.loc[:, column] == comb[1], target]).pvalue \\\n",
    "            <= 0.05/len(combinations_all): # Учли поправку Бонферони\n",
    "            print('Найдены статистически значимые различия для колонки', column)\n",
    "            found = True\n",
    "            break\n",
    "    if not found:\n",
    "        print(f'Статистически значимые для {column} различия не найдены.')"
   ]
  },
  {
   "cell_type": "code",
   "execution_count": 134,
   "metadata": {},
   "outputs": [
    {
     "name": "stdout",
     "output_type": "stream",
     "text": [
      "Статистически значимые для school различия не найдены.\n",
      "Статистически значимые для sex различия не найдены.\n",
      "Статистически значимые для age различия не найдены.\n",
      "Найдены статистически значимые различия для колонки address\n",
      "Статистически значимые для famsize различия не найдены.\n",
      "Статистически значимые для Pstatus различия не найдены.\n",
      "Найдены статистически значимые различия для колонки Medu\n",
      "Статистически значимые для Fedu различия не найдены.\n",
      "Найдены статистически значимые различия для колонки Mjob\n",
      "Статистически значимые для Fjob различия не найдены.\n",
      "Статистически значимые для reason различия не найдены.\n",
      "Статистически значимые для guardian различия не найдены.\n",
      "Статистически значимые для traveltime различия не найдены.\n",
      "Статистически значимые для studytime различия не найдены."
     ]
    },
    {
     "name": "stderr",
     "output_type": "stream",
     "text": [
      "C:\\Users\\kirill.n.cherkasov\\AppData\\Local\\Continuum\\anaconda3\\lib\\site-packages\\numpy\\core\\fromnumeric.py:3584: RuntimeWarning: Degrees of freedom <= 0 for slice\n",
      "  **kwargs)\n",
      "C:\\Users\\kirill.n.cherkasov\\AppData\\Local\\Continuum\\anaconda3\\lib\\site-packages\\numpy\\core\\_methods.py:209: RuntimeWarning: invalid value encountered in double_scalars\n",
      "  ret = ret.dtype.type(ret / rcount)\n",
      "C:\\Users\\kirill.n.cherkasov\\AppData\\Local\\Continuum\\anaconda3\\lib\\site-packages\\scipy\\stats\\_distn_infrastructure.py:903: RuntimeWarning: invalid value encountered in greater\n",
      "  return (a < x) & (x < b)\n",
      "C:\\Users\\kirill.n.cherkasov\\AppData\\Local\\Continuum\\anaconda3\\lib\\site-packages\\scipy\\stats\\_distn_infrastructure.py:903: RuntimeWarning: invalid value encountered in less\n",
      "  return (a < x) & (x < b)\n",
      "C:\\Users\\kirill.n.cherkasov\\AppData\\Local\\Continuum\\anaconda3\\lib\\site-packages\\scipy\\stats\\_distn_infrastructure.py:1912: RuntimeWarning: invalid value encountered in less_equal\n",
      "  cond2 = cond0 & (x <= _a)\n"
     ]
    },
    {
     "name": "stdout",
     "output_type": "stream",
     "text": [
      "\n",
      "Найдены статистически значимые различия для колонки failures\n",
      "Статистически значимые для schoolsup различия не найдены.\n",
      "Статистически значимые для famsup различия не найдены.\n",
      "Статистически значимые для paid различия не найдены.\n",
      "Статистически значимые для activities различия не найдены.\n",
      "Статистически значимые для nursery различия не найдены.\n",
      "Статистически значимые для studytime, granular различия не найдены.\n",
      "Найдены статистически значимые различия для колонки higher\n",
      "Статистически значимые для internet различия не найдены.\n",
      "Найдены статистически значимые различия для колонки romantic\n",
      "Статистически значимые для famrel различия не найдены.\n",
      "Статистически значимые для freetime различия не найдены.\n",
      "Найдены статистически значимые различия для колонки goout\n",
      "Статистически значимые для health различия не найдены.\n",
      "Статистически значимые для absences различия не найдены.\n",
      "Найдены статистически значимые различия для колонки score\n"
     ]
    }
   ],
   "source": [
    "for col in students.columns:\n",
    "    get_stat_diff(students, col, 'score')"
   ]
  },
  {
   "cell_type": "code",
   "execution_count": 135,
   "metadata": {},
   "outputs": [
    {
     "data": {
      "text/plain": [
       "GP    349\n",
       "MS     46\n",
       "Name: school, dtype: int64"
      ]
     },
     "execution_count": 135,
     "metadata": {},
     "output_type": "execute_result"
    }
   ],
   "source": [
    "students.school.value_counts(dropna=False)"
   ]
  },
  {
   "cell_type": "markdown",
   "metadata": {},
   "source": [
    "Школа - бинарный категориальный признак. Пропущенных значений нет, оставляем как есть."
   ]
  },
  {
   "cell_type": "markdown",
   "metadata": {},
   "source": [
    "### Sex"
   ]
  },
  {
   "cell_type": "code",
   "execution_count": 136,
   "metadata": {},
   "outputs": [
    {
     "data": {
      "text/plain": [
       "F    208\n",
       "M    187\n",
       "Name: sex, dtype: int64"
      ]
     },
     "execution_count": 136,
     "metadata": {},
     "output_type": "execute_result"
    }
   ],
   "source": [
    "students.sex.value_counts(dropna=False)"
   ]
  },
  {
   "cell_type": "markdown",
   "metadata": {},
   "source": [
    "### School"
   ]
  },
  {
   "cell_type": "markdown",
   "metadata": {},
   "source": [
    "С полом - аналогичная ситуация что и со школами."
   ]
  },
  {
   "cell_type": "markdown",
   "metadata": {},
   "source": [
    "### Age"
   ]
  },
  {
   "cell_type": "code",
   "execution_count": 137,
   "metadata": {},
   "outputs": [
    {
     "data": {
      "text/plain": [
       "16    104\n",
       "17     98\n",
       "18     82\n",
       "15     82\n",
       "19     24\n",
       "20      3\n",
       "22      1\n",
       "21      1\n",
       "Name: age, dtype: int64"
      ]
     },
     "execution_count": 137,
     "metadata": {},
     "output_type": "execute_result"
    },
    {
     "data": {
      "image/png": "[encoded data removed]",
      "text/plain": [
       "<Figure size 432x288 with 1 Axes>"
      ]
     },
     "metadata": {
      "needs_background": "light"
     },
     "output_type": "display_data"
    }
   ],
   "source": [
    "students.age.hist(bins=5)\n",
    "students.age.describe()\n",
    "students.age.value_counts()"
   ]
  },
  {
   "cell_type": "markdown",
   "metadata": {},
   "source": [
    "Переменную возраст будем считать количественной. Как видно, в ней есть выбросы"
   ]
  },
  {
   "cell_type": "code",
   "execution_count": 138,
   "metadata": {},
   "outputs": [
    {
     "name": "stdout",
     "output_type": "stream",
     "text": [
      "25-й перцентиль: 16.0, 75-й перцентиль: 18.0, IQR: 2.0,  Границы выбросов: [13.0, 21.0].\n"
     ]
    },
    {
     "data": {
      "image/png": "[encoded data removed]",
      "text/plain": [
       "<Figure size 432x288 with 1 Axes>"
      ]
     },
     "metadata": {
      "needs_background": "light"
     },
     "output_type": "display_data"
    }
   ],
   "source": [
    "median = students.age.median()\n",
    "IQR = students.age.quantile(0.75) - students.age.quantile(0.25)\n",
    "perc25 = students.age.quantile(0.25)\n",
    "perc75 = students.age.quantile(0.75)\n",
    "print('25-й перцентиль: {},'.format(perc25), '75-й перцентиль: {},'.format(perc75)\n",
    "      , \"IQR: {}, \".format(IQR),\"Границы выбросов: [{f}, {l}].\".format(f=perc25 - 1.5*IQR, l=perc75 + 1.5*IQR))\n",
    "students.age.loc[students.age.between(perc25 - 1.5*IQR, perc75 + 1.5*IQR)].hist(bins = 10\n",
    "                                                                                              , range = (15, 25), \n",
    "                                                                                             label = 'IQR')\n",
    "students.age.loc[students.age <= 100].hist(alpha = 0.5, bins = 10, range = (15, 22),\n",
    "                                                        label = 'Здравый смысл')\n",
    "plt.legend();"
   ]
  },
  {
   "cell_type": "markdown",
   "metadata": {},
   "source": [
    "Удалим выбросы из исходного датафрейма по колонке age на 1.5 межквартильного размаха."
   ]
  },
  {
   "cell_type": "code",
   "execution_count": 139,
   "metadata": {},
   "outputs": [],
   "source": [
    "def subset_by_remove_outliers(df: pd.DataFrame, column: str, iqr_width: int=1.5) -> pd.DataFrame:\n",
    "    \"\"\"\n",
    "    Удаляет выбросы на 1.5 межквартильного размаха (по умолчанию) по колонке и возвращает изменённый датафрейм\n",
    "    \"\"\"\n",
    "    # Вычисляем квартили и межквартильный размах\n",
    "    q1 = df[column].quantile(0.25)                 \n",
    "    q3 = df[column].quantile(0.75)\n",
    "    iqr = q3 - q1\n",
    "    filter = (df[column] >= q1 - iqr_width*iqr) & (df[column] <= q3 + iqr_width*iqr)\n",
    "    return df.loc[filter]  "
   ]
  },
  {
   "cell_type": "code",
   "execution_count": 140,
   "metadata": {},
   "outputs": [],
   "source": [
    "students = subset_by_remove_outliers(students, 'age')"
   ]
  },
  {
   "cell_type": "code",
   "execution_count": 141,
   "metadata": {},
   "outputs": [
    {
     "data": {
      "text/plain": [
       "15     82\n",
       "16    104\n",
       "17     98\n",
       "18     82\n",
       "19     24\n",
       "20      3\n",
       "21      1\n",
       "Name: age, dtype: int64"
      ]
     },
     "execution_count": 141,
     "metadata": {},
     "output_type": "execute_result"
    }
   ],
   "source": [
    "students.age.value_counts(sort=False)"
   ]
  },
  {
   "cell_type": "markdown",
   "metadata": {},
   "source": [
    "### Address"
   ]
  },
  {
   "cell_type": "code",
   "execution_count": 142,
   "metadata": {},
   "outputs": [
    {
     "data": {
      "text/plain": [
       "U      294\n",
       "R       83\n",
       "NaN     17\n",
       "Name: address, dtype: int64"
      ]
     },
     "execution_count": 142,
     "metadata": {},
     "output_type": "execute_result"
    }
   ],
   "source": [
    "students.address.value_counts(dropna=False)"
   ]
  },
  {
   "cell_type": "markdown",
   "metadata": {},
   "source": [
    "Бинарный категориальный признак, в котором есть пропущенные значения. Попробуем заполнить пропуски на основе призанка traveltime (время поездки до школы). Ниже показано, что за исключением 3 все пропуски address имеют traveltime"
   ]
  },
  {
   "cell_type": "code",
   "execution_count": 143,
   "metadata": {},
   "outputs": [
    {
     "data": {
      "text/plain": [
       "6      1.0\n",
       "52     2.0\n",
       "75     1.0\n",
       "92     1.0\n",
       "96     2.0\n",
       "159    1.0\n",
       "168    1.0\n",
       "241    NaN\n",
       "254    1.0\n",
       "270    1.0\n",
       "292    1.0\n",
       "348    NaN\n",
       "350    3.0\n",
       "354    2.0\n",
       "359    2.0\n",
       "372    NaN\n",
       "376    2.0\n",
       "Name: traveltime, dtype: float64"
      ]
     },
     "execution_count": 143,
     "metadata": {},
     "output_type": "execute_result"
    }
   ],
   "source": [
    "students[students.address.isnull()].traveltime"
   ]
  },
  {
   "cell_type": "code",
   "execution_count": 144,
   "metadata": {},
   "outputs": [
    {
     "data": {
      "text/plain": [
       "address\n",
       "R    1.815789\n",
       "U    1.333333\n",
       "Name: traveltime, dtype: float64"
      ]
     },
     "execution_count": 144,
     "metadata": {},
     "output_type": "execute_result"
    }
   ],
   "source": [
    "students.groupby('address').traveltime.mean()"
   ]
  },
  {
   "cell_type": "markdown",
   "metadata": {},
   "source": [
    "В среднем живущие за городом добираются около 1.8 часов, живущие в городе - 1.3 часа"
   ]
  },
  {
   "cell_type": "code",
   "execution_count": 145,
   "metadata": {},
   "outputs": [
    {
     "data": {
      "text/plain": [
       "1.0    241\n",
       "2.0     96\n",
       "NaN     28\n",
       "3.0     22\n",
       "4.0      7\n",
       "Name: traveltime, dtype: int64"
      ]
     },
     "execution_count": 145,
     "metadata": {},
     "output_type": "execute_result"
    }
   ],
   "source": [
    "students.traveltime.value_counts(dropna=False)"
   ]
  },
  {
   "cell_type": "markdown",
   "metadata": {},
   "source": [
    "Как видно traveltime признак так же категориальный, поэтому для простоты можно считать, что студент, у которого traveltime > 1 живет за городом"
   ]
  },
  {
   "cell_type": "code",
   "execution_count": 146,
   "metadata": {},
   "outputs": [],
   "source": [
    "def fill_address_by_traveltime(x):\n",
    "    if isinstance(x.address, str):\n",
    "        return x\n",
    "    elif x.traveltime == 1:\n",
    "        x.address = 'U'\n",
    "    elif x.traveltime >= 2:\n",
    "        x.address = 'R'\n",
    "    return x"
   ]
  },
  {
   "cell_type": "code",
   "execution_count": 147,
   "metadata": {},
   "outputs": [],
   "source": [
    "students = students.apply(fill_address_by_traveltime, axis=1)"
   ]
  },
  {
   "cell_type": "code",
   "execution_count": 148,
   "metadata": {},
   "outputs": [
    {
     "data": {
      "text/plain": [
       "U      302\n",
       "R       89\n",
       "NaN      3\n",
       "Name: address, dtype: int64"
      ]
     },
     "execution_count": 148,
     "metadata": {},
     "output_type": "execute_result"
    }
   ],
   "source": [
    "students.address.value_counts(dropna=False)"
   ]
  },
  {
   "cell_type": "code",
   "execution_count": 149,
   "metadata": {},
   "outputs": [
    {
     "data": {
      "text/html": [
       "<div>\n",
       "<style scoped>\n",
       "    .dataframe tbody tr th:only-of-type {\n",
       "        vertical-align: middle;\n",
       "    }\n",
       "\n",
       "    .dataframe tbody tr th {\n",
       "        vertical-align: top;\n",
       "    }\n",
       "\n",
       "    .dataframe thead th {\n",
       "        text-align: right;\n",
       "    }\n",
       "</style>\n",
       "<table border=\"1\" class=\"dataframe\">\n",
       "  <thead>\n",
       "    <tr style=\"text-align: right;\">\n",
       "      <th></th>\n",
       "      <th>school</th>\n",
       "      <th>sex</th>\n",
       "      <th>age</th>\n",
       "      <th>address</th>\n",
       "      <th>famsize</th>\n",
       "      <th>Pstatus</th>\n",
       "      <th>Medu</th>\n",
       "      <th>Fedu</th>\n",
       "      <th>Mjob</th>\n",
       "      <th>Fjob</th>\n",
       "      <th>reason</th>\n",
       "      <th>guardian</th>\n",
       "      <th>traveltime</th>\n",
       "      <th>studytime</th>\n",
       "      <th>failures</th>\n",
       "      <th>schoolsup</th>\n",
       "      <th>famsup</th>\n",
       "      <th>paid</th>\n",
       "      <th>activities</th>\n",
       "      <th>nursery</th>\n",
       "      <th>studytime, granular</th>\n",
       "      <th>higher</th>\n",
       "      <th>internet</th>\n",
       "      <th>romantic</th>\n",
       "      <th>famrel</th>\n",
       "      <th>freetime</th>\n",
       "      <th>goout</th>\n",
       "      <th>health</th>\n",
       "      <th>absences</th>\n",
       "      <th>score</th>\n",
       "    </tr>\n",
       "  </thead>\n",
       "  <tbody>\n",
       "    <tr>\n",
       "      <th>241</th>\n",
       "      <td>GP</td>\n",
       "      <td>M</td>\n",
       "      <td>17</td>\n",
       "      <td>NaN</td>\n",
       "      <td>LE3</td>\n",
       "      <td>A</td>\n",
       "      <td>4.0</td>\n",
       "      <td>4.0</td>\n",
       "      <td>teacher</td>\n",
       "      <td>other</td>\n",
       "      <td>course</td>\n",
       "      <td>mother</td>\n",
       "      <td>NaN</td>\n",
       "      <td>2.0</td>\n",
       "      <td>0.0</td>\n",
       "      <td>no</td>\n",
       "      <td>yes</td>\n",
       "      <td>yes</td>\n",
       "      <td>no</td>\n",
       "      <td>yes</td>\n",
       "      <td>-6.0</td>\n",
       "      <td>yes</td>\n",
       "      <td>yes</td>\n",
       "      <td>no</td>\n",
       "      <td>3.0</td>\n",
       "      <td>3.0</td>\n",
       "      <td>NaN</td>\n",
       "      <td>4.0</td>\n",
       "      <td>2.0</td>\n",
       "      <td>60.0</td>\n",
       "    </tr>\n",
       "    <tr>\n",
       "      <th>348</th>\n",
       "      <td>GP</td>\n",
       "      <td>F</td>\n",
       "      <td>17</td>\n",
       "      <td>NaN</td>\n",
       "      <td>GT3</td>\n",
       "      <td>T</td>\n",
       "      <td>4.0</td>\n",
       "      <td>3.0</td>\n",
       "      <td>health</td>\n",
       "      <td>other</td>\n",
       "      <td>reputation</td>\n",
       "      <td>mother</td>\n",
       "      <td>NaN</td>\n",
       "      <td>3.0</td>\n",
       "      <td>0.0</td>\n",
       "      <td>no</td>\n",
       "      <td>yes</td>\n",
       "      <td>yes</td>\n",
       "      <td>yes</td>\n",
       "      <td>yes</td>\n",
       "      <td>-9.0</td>\n",
       "      <td>yes</td>\n",
       "      <td>yes</td>\n",
       "      <td>yes</td>\n",
       "      <td>NaN</td>\n",
       "      <td>4.0</td>\n",
       "      <td>3.0</td>\n",
       "      <td>4.0</td>\n",
       "      <td>0.0</td>\n",
       "      <td>75.0</td>\n",
       "    </tr>\n",
       "    <tr>\n",
       "      <th>372</th>\n",
       "      <td>MS</td>\n",
       "      <td>F</td>\n",
       "      <td>17</td>\n",
       "      <td>NaN</td>\n",
       "      <td>GT3</td>\n",
       "      <td>T</td>\n",
       "      <td>2.0</td>\n",
       "      <td>2.0</td>\n",
       "      <td>other</td>\n",
       "      <td>at_home</td>\n",
       "      <td>home</td>\n",
       "      <td>mother</td>\n",
       "      <td>NaN</td>\n",
       "      <td>3.0</td>\n",
       "      <td>0.0</td>\n",
       "      <td>no</td>\n",
       "      <td>no</td>\n",
       "      <td>no</td>\n",
       "      <td>yes</td>\n",
       "      <td>yes</td>\n",
       "      <td>-9.0</td>\n",
       "      <td>yes</td>\n",
       "      <td>no</td>\n",
       "      <td>NaN</td>\n",
       "      <td>3.0</td>\n",
       "      <td>4.0</td>\n",
       "      <td>3.0</td>\n",
       "      <td>3.0</td>\n",
       "      <td>8.0</td>\n",
       "      <td>55.0</td>\n",
       "    </tr>\n",
       "  </tbody>\n",
       "</table>\n",
       "</div>"
      ],
      "text/plain": [
       "    school sex  age address famsize Pstatus  Medu  Fedu     Mjob     Fjob  \\\n",
       "241     GP   M   17     NaN     LE3       A   4.0   4.0  teacher    other   \n",
       "348     GP   F   17     NaN     GT3       T   4.0   3.0   health    other   \n",
       "372     MS   F   17     NaN     GT3       T   2.0   2.0    other  at_home   \n",
       "\n",
       "         reason guardian  traveltime  studytime  failures schoolsup famsup  \\\n",
       "241      course   mother         NaN        2.0       0.0        no    yes   \n",
       "348  reputation   mother         NaN        3.0       0.0        no    yes   \n",
       "372        home   mother         NaN        3.0       0.0        no     no   \n",
       "\n",
       "    paid activities nursery  studytime, granular higher internet romantic  \\\n",
       "241  yes         no     yes                 -6.0    yes      yes       no   \n",
       "348  yes        yes     yes                 -9.0    yes      yes      yes   \n",
       "372   no        yes     yes                 -9.0    yes       no      NaN   \n",
       "\n",
       "     famrel  freetime  goout  health  absences  score  \n",
       "241     3.0       3.0    NaN     4.0       2.0   60.0  \n",
       "348     NaN       4.0    3.0     4.0       0.0   75.0  \n",
       "372     3.0       4.0    3.0     3.0       8.0   55.0  "
      ]
     },
     "execution_count": 149,
     "metadata": {},
     "output_type": "execute_result"
    }
   ],
   "source": [
    "students[students.address.isnull()]"
   ]
  },
  {
   "cell_type": "markdown",
   "metadata": {},
   "source": [
    "Осталось 3 значения, заполним их на основе признака internet. Будем считать, что в деревнях нет интернета."
   ]
  },
  {
   "cell_type": "code",
   "execution_count": 150,
   "metadata": {},
   "outputs": [],
   "source": [
    "students.loc[(students.address.isnull()) & (students.internet == 'yes'), 'address'] = 'U'\n",
    "students.loc[(students.address.isnull()) & (students.internet == 'no'), 'address'] = 'R'"
   ]
  },
  {
   "cell_type": "code",
   "execution_count": 151,
   "metadata": {},
   "outputs": [
    {
     "data": {
      "text/plain": [
       "U    304\n",
       "R     90\n",
       "Name: address, dtype: int64"
      ]
     },
     "execution_count": 151,
     "metadata": {},
     "output_type": "execute_result"
    }
   ],
   "source": [
    "students.address.value_counts(dropna = False)"
   ]
  },
  {
   "cell_type": "markdown",
   "metadata": {},
   "source": [
    "### famsize"
   ]
  },
  {
   "cell_type": "code",
   "execution_count": 152,
   "metadata": {},
   "outputs": [
    {
     "data": {
      "text/plain": [
       "GT3    260\n",
       "LE3    107\n",
       "NaN     27\n",
       "Name: famsize, dtype: int64"
      ]
     },
     "execution_count": 152,
     "metadata": {},
     "output_type": "execute_result"
    }
   ],
   "source": [
    "students.famsize.value_counts(dropna=False)"
   ]
  },
  {
   "cell_type": "code",
   "execution_count": 153,
   "metadata": {},
   "outputs": [],
   "source": [
    "def get_boxplot(df: pd.DataFrame, column: str, target: str) -> None:\n",
    "    \"\"\"\n",
    "    Show boxblot on dataframe column(x) and dataframe target(y)\n",
    "    \"\"\"\n",
    "    fig, ax = plt.subplots(figsize = (14, 4))\n",
    "    sns.boxplot(x=column, y=target, \n",
    "                data=df.loc[df.loc[:, column].isin(df.loc[:, column].value_counts().index[:10])],\n",
    "               ax=ax)\n",
    "    plt.xticks(rotation=45)\n",
    "    ax.set_title('Boxplot for ' + column)\n",
    "    plt.show()"
   ]
  },
  {
   "cell_type": "code",
   "execution_count": 154,
   "metadata": {},
   "outputs": [
    {
     "data": {
      "image/png": "[encoded data removed]",
      "text/plain": [
       "<Figure size 1008x288 with 1 Axes>"
      ]
     },
     "metadata": {
      "needs_background": "light"
     },
     "output_type": "display_data"
    }
   ],
   "source": [
    "get_boxplot(students, 'famsize', 'score')"
   ]
  },
  {
   "cell_type": "code",
   "execution_count": 155,
   "metadata": {},
   "outputs": [
    {
     "data": {
      "text/plain": [
       "address  famsize\n",
       "R        GT3         63\n",
       "         LE3         20\n",
       "U        GT3        197\n",
       "         LE3         87\n",
       "Name: famsize, dtype: int64"
      ]
     },
     "execution_count": 155,
     "metadata": {},
     "output_type": "execute_result"
    }
   ],
   "source": [
    "students.groupby('address').famsize.value_counts()"
   ]
  },
  {
   "cell_type": "markdown",
   "metadata": {},
   "source": [
    "Как видно, в деревнях немного чаще встречаются большие семьи, чем в городах. Заполним famsize на основе этих данных."
   ]
  },
  {
   "cell_type": "code",
   "execution_count": 156,
   "metadata": {},
   "outputs": [],
   "source": [
    "def fill_fam_size_by_adrress(x):\n",
    "    if isinstance(x.famsize, str):\n",
    "        return x\n",
    "    values = ['GT3', 'LE3']\n",
    "    if x.address == 'R':\n",
    "        x.famsize = np.random.choice(values, 1, p=[63/83, 20/83])[0]\n",
    "    elif x.address =='U':\n",
    "        x.famsize = np.random.choice(values, 1, p=[197/284, 87/284])[0]\n",
    "    return x\n",
    "    "
   ]
  },
  {
   "cell_type": "code",
   "execution_count": 157,
   "metadata": {},
   "outputs": [],
   "source": [
    "students = students.apply(fill_fam_size_by_adrress, axis=1)"
   ]
  },
  {
   "cell_type": "code",
   "execution_count": 158,
   "metadata": {},
   "outputs": [
    {
     "data": {
      "text/plain": [
       "GT3    277\n",
       "LE3    117\n",
       "Name: famsize, dtype: int64"
      ]
     },
     "execution_count": 158,
     "metadata": {},
     "output_type": "execute_result"
    }
   ],
   "source": [
    "students.famsize.value_counts()"
   ]
  },
  {
   "cell_type": "markdown",
   "metadata": {},
   "source": [
    "### Pstatus"
   ]
  },
  {
   "cell_type": "code",
   "execution_count": 159,
   "metadata": {},
   "outputs": [
    {
     "data": {
      "text/plain": [
       "T      313\n",
       "NaN     45\n",
       "A       36\n",
       "Name: Pstatus, dtype: int64"
      ]
     },
     "execution_count": 159,
     "metadata": {},
     "output_type": "execute_result"
    }
   ],
   "source": [
    "students.Pstatus.value_counts(dropna=False)"
   ]
  },
  {
   "cell_type": "markdown",
   "metadata": {},
   "source": [
    "Признак бинарный категориальный, с пропущенными значениями. На основании данных ниже можно заметить, что если образование матери\n",
    "больше 9 классов, то вероятность жить раздельно повышается. Заполним пропуски на основании этого размышления. Для начала заполним пропуски в Medu медианой."
   ]
  },
  {
   "cell_type": "code",
   "execution_count": 160,
   "metadata": {},
   "outputs": [],
   "source": [
    "students.Medu.fillna(students.Medu.median(), inplace=True)"
   ]
  },
  {
   "cell_type": "code",
   "execution_count": 161,
   "metadata": {},
   "outputs": [
    {
     "data": {
      "text/plain": [
       "Medu  Pstatus\n",
       "0.0   T            3\n",
       "1.0   T           51\n",
       "      A            1\n",
       "2.0   T           84\n",
       "      A            6\n",
       "3.0   T           69\n",
       "      A           14\n",
       "4.0   T          106\n",
       "      A           15\n",
       "Name: Pstatus, dtype: int64"
      ]
     },
     "execution_count": 161,
     "metadata": {},
     "output_type": "execute_result"
    }
   ],
   "source": [
    "students.groupby('Medu').Pstatus.value_counts()"
   ]
  },
  {
   "cell_type": "code",
   "execution_count": 162,
   "metadata": {},
   "outputs": [],
   "source": [
    "def fill_p_status_by_medu(x):\n",
    "    if isinstance(x.Pstatus, str):\n",
    "        return x\n",
    "    if x.Medu > 2:\n",
    "        x.Pstatus = np.random.choice(['T', 'A'], 1, p=[(69 + 106) / (69 + 14 + 106 + 15), \n",
    "                                                       (14 + 15) / (69 + 14 + 106 + 15)])[0]\n",
    "    else:\n",
    "        x.Pstatus = np.random.choice(['T', 'A'], 1, p=[(3 + 51 + 84) / (3 + 51 + 1 + 84 + 6),\n",
    "                                                       (1 + 6) / (3 + 51 + 1 + 84 + 6)])[0]\n",
    "    return x"
   ]
  },
  {
   "cell_type": "code",
   "execution_count": 163,
   "metadata": {},
   "outputs": [],
   "source": [
    "students = students.apply(fill_p_status_by_medu, axis=1)"
   ]
  },
  {
   "cell_type": "code",
   "execution_count": 164,
   "metadata": {},
   "outputs": [
    {
     "data": {
      "text/plain": [
       "T    352\n",
       "A     42\n",
       "Name: Pstatus, dtype: int64"
      ]
     },
     "execution_count": 164,
     "metadata": {},
     "output_type": "execute_result"
    }
   ],
   "source": [
    "students.Pstatus.value_counts()"
   ]
  },
  {
   "cell_type": "markdown",
   "metadata": {},
   "source": [
    "### Medu"
   ]
  },
  {
   "cell_type": "code",
   "execution_count": 165,
   "metadata": {},
   "outputs": [
    {
     "data": {
      "text/plain": [
       "4.0    131\n",
       "2.0    102\n",
       "3.0     99\n",
       "1.0     59\n",
       "0.0      3\n",
       "Name: Medu, dtype: int64"
      ]
     },
     "execution_count": 165,
     "metadata": {},
     "output_type": "execute_result"
    }
   ],
   "source": [
    "students.Medu.value_counts(dropna=False)"
   ]
  },
  {
   "cell_type": "markdown",
   "metadata": {},
   "source": [
    "Признак будем считать числовым, пропущенные значения были ранее заполнены медианой."
   ]
  },
  {
   "cell_type": "markdown",
   "metadata": {},
   "source": [
    "### Fedu"
   ]
  },
  {
   "cell_type": "code",
   "execution_count": 166,
   "metadata": {},
   "outputs": [
    {
     "data": {
      "text/plain": [
       "2.0     106\n",
       "3.0      96\n",
       "4.0      88\n",
       "1.0      77\n",
       "NaN      24\n",
       "0.0       2\n",
       "40.0      1\n",
       "Name: Fedu, dtype: int64"
      ]
     },
     "execution_count": 166,
     "metadata": {},
     "output_type": "execute_result"
    }
   ],
   "source": [
    "students.Fedu.value_counts(dropna=False)"
   ]
  },
  {
   "cell_type": "markdown",
   "metadata": {},
   "source": [
    "Признак будем считать числовым.\n",
    "Видно, что здесь опечатка - значение 40.0. Поскольку значение медианы 2.5 не имеет смысла, заполним пропуски случайным значением\n",
    "2 или 3.\n",
    "#### Как вариант на подумать - заполнить 0 на случай, если студент стеснялся или у него нет отца"
   ]
  },
  {
   "cell_type": "code",
   "execution_count": 167,
   "metadata": {},
   "outputs": [],
   "source": [
    "students.loc[students.Fedu == 40, 'Fedu'] = 4"
   ]
  },
  {
   "cell_type": "code",
   "execution_count": 168,
   "metadata": {},
   "outputs": [],
   "source": [
    "students.Fedu = students.Fedu.apply(lambda x: x if not pd.isnull(x) else np.random.choice([2, 3], 1, p=[.5, .5])[0])"
   ]
  },
  {
   "cell_type": "code",
   "execution_count": 169,
   "metadata": {},
   "outputs": [
    {
     "data": {
      "text/plain": [
       "2.0    116\n",
       "3.0    110\n",
       "4.0     89\n",
       "1.0     77\n",
       "0.0      2\n",
       "Name: Fedu, dtype: int64"
      ]
     },
     "execution_count": 169,
     "metadata": {},
     "output_type": "execute_result"
    }
   ],
   "source": [
    "students.Fedu.value_counts(dropna=False)"
   ]
  },
  {
   "cell_type": "markdown",
   "metadata": {},
   "source": [
    "### Mjob"
   ]
  },
  {
   "cell_type": "code",
   "execution_count": 170,
   "metadata": {},
   "outputs": [
    {
     "data": {
      "text/plain": [
       "other       133\n",
       "services     97\n",
       "at_home      58\n",
       "teacher      55\n",
       "health       32\n",
       "NaN          19\n",
       "Name: Mjob, dtype: int64"
      ]
     },
     "execution_count": 170,
     "metadata": {},
     "output_type": "execute_result"
    }
   ],
   "source": [
    "students.Mjob.value_counts(dropna=False)"
   ]
  },
  {
   "cell_type": "markdown",
   "metadata": {},
   "source": [
    "Признак категориальный, пропуски заполним значением 'other'"
   ]
  },
  {
   "cell_type": "code",
   "execution_count": 171,
   "metadata": {},
   "outputs": [],
   "source": [
    "students.Mjob.fillna('other', inplace=True)"
   ]
  },
  {
   "cell_type": "code",
   "execution_count": 172,
   "metadata": {},
   "outputs": [
    {
     "data": {
      "text/plain": [
       "other       152\n",
       "services     97\n",
       "at_home      58\n",
       "teacher      55\n",
       "health       32\n",
       "Name: Mjob, dtype: int64"
      ]
     },
     "execution_count": 172,
     "metadata": {},
     "output_type": "execute_result"
    }
   ],
   "source": [
    "students.Mjob.value_counts(dropna=False)"
   ]
  },
  {
   "cell_type": "markdown",
   "metadata": {},
   "source": [
    "### Fjob"
   ]
  },
  {
   "cell_type": "code",
   "execution_count": 173,
   "metadata": {},
   "outputs": [
    {
     "data": {
      "text/plain": [
       "other       197\n",
       "services    101\n",
       "NaN          36\n",
       "teacher      29\n",
       "at_home      16\n",
       "health       15\n",
       "Name: Fjob, dtype: int64"
      ]
     },
     "execution_count": 173,
     "metadata": {},
     "output_type": "execute_result"
    }
   ],
   "source": [
    "students.Fjob.value_counts(dropna=False)"
   ]
  },
  {
   "cell_type": "markdown",
   "metadata": {},
   "source": [
    "Признак категориальный, пропуски заполним значением 'other'"
   ]
  },
  {
   "cell_type": "code",
   "execution_count": 174,
   "metadata": {},
   "outputs": [
    {
     "data": {
      "text/plain": [
       "other       233\n",
       "services    101\n",
       "teacher      29\n",
       "at_home      16\n",
       "health       15\n",
       "Name: Fjob, dtype: int64"
      ]
     },
     "execution_count": 174,
     "metadata": {},
     "output_type": "execute_result"
    }
   ],
   "source": [
    "students.Fjob.fillna('other', inplace=True)\n",
    "students.Fjob.value_counts()"
   ]
  },
  {
   "cell_type": "markdown",
   "metadata": {},
   "source": [
    "### reason"
   ]
  },
  {
   "cell_type": "code",
   "execution_count": 175,
   "metadata": {},
   "outputs": [
    {
     "data": {
      "text/plain": [
       "course        137\n",
       "home          104\n",
       "reputation    103\n",
       "other          33\n",
       "NaN            17\n",
       "Name: reason, dtype: int64"
      ]
     },
     "execution_count": 175,
     "metadata": {},
     "output_type": "execute_result"
    }
   ],
   "source": [
    "students.reason.value_counts(dropna=False)"
   ]
  },
  {
   "cell_type": "markdown",
   "metadata": {},
   "source": [
    "Признак категориальный, пропуски заполним значением 'other'"
   ]
  },
  {
   "cell_type": "code",
   "execution_count": 176,
   "metadata": {},
   "outputs": [
    {
     "data": {
      "text/plain": [
       "course        137\n",
       "home          104\n",
       "reputation    103\n",
       "other          50\n",
       "Name: reason, dtype: int64"
      ]
     },
     "execution_count": 176,
     "metadata": {},
     "output_type": "execute_result"
    }
   ],
   "source": [
    "students.reason.fillna('other', inplace=True)\n",
    "students.reason.value_counts()"
   ]
  },
  {
   "cell_type": "markdown",
   "metadata": {},
   "source": [
    "### guardian"
   ]
  },
  {
   "cell_type": "code",
   "execution_count": 177,
   "metadata": {},
   "outputs": [
    {
     "data": {
      "text/plain": [
       "mother    249\n",
       "father     86\n",
       "NaN        31\n",
       "other      28\n",
       "Name: guardian, dtype: int64"
      ]
     },
     "execution_count": 177,
     "metadata": {},
     "output_type": "execute_result"
    }
   ],
   "source": [
    "students.guardian.value_counts(dropna=False)"
   ]
  },
  {
   "cell_type": "markdown",
   "metadata": {},
   "source": [
    "Признак категориальный, пропуски заполним значением 'other'"
   ]
  },
  {
   "cell_type": "code",
   "execution_count": 178,
   "metadata": {},
   "outputs": [
    {
     "data": {
      "text/plain": [
       "mother    249\n",
       "father     86\n",
       "other      59\n",
       "Name: guardian, dtype: int64"
      ]
     },
     "execution_count": 178,
     "metadata": {},
     "output_type": "execute_result"
    }
   ],
   "source": [
    "students.guardian.fillna('other', inplace=True)\n",
    "students.guardian.value_counts()"
   ]
  },
  {
   "cell_type": "markdown",
   "metadata": {},
   "source": [
    "### traveltime"
   ]
  },
  {
   "cell_type": "code",
   "execution_count": 179,
   "metadata": {},
   "outputs": [
    {
     "data": {
      "text/plain": [
       "1.0    241\n",
       "2.0     96\n",
       "NaN     28\n",
       "3.0     22\n",
       "4.0      7\n",
       "Name: traveltime, dtype: int64"
      ]
     },
     "execution_count": 179,
     "metadata": {},
     "output_type": "execute_result"
    }
   ],
   "source": [
    "students.traveltime.value_counts(dropna=False)"
   ]
  },
  {
   "cell_type": "markdown",
   "metadata": {},
   "source": [
    "Признак числовой, пропуски будем заполнять на основе переменной address"
   ]
  },
  {
   "cell_type": "code",
   "execution_count": 180,
   "metadata": {},
   "outputs": [
    {
     "data": {
      "text/plain": [
       "address\n",
       "R    1.841463\n",
       "U    1.323944\n",
       "Name: traveltime, dtype: float64"
      ]
     },
     "execution_count": 180,
     "metadata": {},
     "output_type": "execute_result"
    }
   ],
   "source": [
    "students.groupby('address').traveltime.mean()"
   ]
  },
  {
   "cell_type": "code",
   "execution_count": 181,
   "metadata": {},
   "outputs": [
    {
     "data": {
      "text/plain": [
       "address  traveltime\n",
       "R        1.0            34\n",
       "         2.0            31\n",
       "         3.0            13\n",
       "         4.0             4\n",
       "U        1.0           207\n",
       "         2.0            65\n",
       "         3.0             9\n",
       "         4.0             3\n",
       "Name: traveltime, dtype: int64"
      ]
     },
     "execution_count": 181,
     "metadata": {},
     "output_type": "execute_result"
    }
   ],
   "source": [
    "students.groupby('address').traveltime.value_counts()"
   ]
  },
  {
   "cell_type": "code",
   "execution_count": 182,
   "metadata": {},
   "outputs": [],
   "source": [
    "def fill_traveltime_by_address(x):\n",
    "    if not np.isnan(x.traveltime):\n",
    "        return x\n",
    "    if x.address == 'U':\n",
    "        # Выберем случайное время путешествия на основе вероятностей для городского ученика\n",
    "        x.traveltime = np.random.choice([1, 2, 3, 4], 1, p=[207/284, 65/284, 9/284, 3/284])[0]\n",
    "    elif x.address =='R':\n",
    "        # Аналогично для ученика из деревни\n",
    "        x.traveltime = np.random.choice([1, 2, 3, 4], 1, p=[34/82, 31/82, 13/82, 4/82])[0]\n",
    "    return x"
   ]
  },
  {
   "cell_type": "code",
   "execution_count": 183,
   "metadata": {},
   "outputs": [
    {
     "data": {
      "text/plain": [
       "1.0    256\n",
       "2.0    104\n",
       "3.0     26\n",
       "4.0      8\n",
       "Name: traveltime, dtype: int64"
      ]
     },
     "execution_count": 183,
     "metadata": {},
     "output_type": "execute_result"
    }
   ],
   "source": [
    "students = students.apply(fill_traveltime_by_address, axis=1)\n",
    "students.traveltime.value_counts(dropna=False)"
   ]
  },
  {
   "cell_type": "markdown",
   "metadata": {},
   "source": [
    "### studytime "
   ]
  },
  {
   "cell_type": "code",
   "execution_count": 184,
   "metadata": {},
   "outputs": [
    {
     "data": {
      "text/plain": [
       "2.0    194\n",
       "1.0    102\n",
       "3.0     64\n",
       "4.0     27\n",
       "NaN      7\n",
       "Name: studytime, dtype: int64"
      ]
     },
     "execution_count": 184,
     "metadata": {},
     "output_type": "execute_result"
    }
   ],
   "source": [
    "students.studytime.value_counts(dropna=False)"
   ]
  },
  {
   "cell_type": "markdown",
   "metadata": {},
   "source": [
    "Признак будем считать числовым. Пропусков не много, целесообразно заполнить их медианой"
   ]
  },
  {
   "cell_type": "code",
   "execution_count": 185,
   "metadata": {},
   "outputs": [],
   "source": [
    "students.studytime.fillna(students.studytime.median(), inplace=True)"
   ]
  },
  {
   "cell_type": "code",
   "execution_count": 186,
   "metadata": {},
   "outputs": [
    {
     "data": {
      "text/plain": [
       "2.0    201\n",
       "1.0    102\n",
       "3.0     64\n",
       "4.0     27\n",
       "Name: studytime, dtype: int64"
      ]
     },
     "execution_count": 186,
     "metadata": {},
     "output_type": "execute_result"
    }
   ],
   "source": [
    "students.studytime.value_counts(dropna=False)"
   ]
  },
  {
   "cell_type": "markdown",
   "metadata": {},
   "source": [
    "### failures"
   ]
  },
  {
   "cell_type": "code",
   "execution_count": 187,
   "metadata": {},
   "outputs": [
    {
     "data": {
      "text/plain": [
       "0.0    293\n",
       "1.0     49\n",
       "NaN     22\n",
       "2.0     16\n",
       "3.0     14\n",
       "Name: failures, dtype: int64"
      ]
     },
     "execution_count": 187,
     "metadata": {},
     "output_type": "execute_result"
    }
   ],
   "source": [
    "students.failures.value_counts(dropna=False)"
   ]
  },
  {
   "cell_type": "markdown",
   "metadata": {},
   "source": [
    "Признак будем считать числовым. Допустим, что связь в романтических отношениях влияет на количество внеучебных неудач. Заполним его на основе признака romantic случайными величинами с определёнными вероятностями, соответствующими той или иной группе."
   ]
  },
  {
   "cell_type": "code",
   "execution_count": 188,
   "metadata": {},
   "outputs": [
    {
     "data": {
      "text/plain": [
       "romantic\n",
       "no     0.292576\n",
       "yes    0.422414\n",
       "Name: failures, dtype: float64"
      ]
     },
     "execution_count": 188,
     "metadata": {},
     "output_type": "execute_result"
    }
   ],
   "source": [
    "students.groupby('romantic').failures.mean()"
   ]
  },
  {
   "cell_type": "code",
   "execution_count": 189,
   "metadata": {},
   "outputs": [
    {
     "data": {
      "text/plain": [
       "romantic  failures\n",
       "no        0.0         187\n",
       "          1.0          27\n",
       "          3.0          10\n",
       "          2.0           5\n",
       "yes       0.0          84\n",
       "          1.0          18\n",
       "          2.0          11\n",
       "          3.0           3\n",
       "Name: failures, dtype: int64"
      ]
     },
     "execution_count": 189,
     "metadata": {},
     "output_type": "execute_result"
    }
   ],
   "source": [
    "students.groupby('romantic').failures.value_counts()"
   ]
  },
  {
   "cell_type": "code",
   "execution_count": 190,
   "metadata": {},
   "outputs": [],
   "source": [
    "def fill_failures_by_romantic(x):\n",
    "    if np.isnan(x.failures):\n",
    "        if isinstance(x.romantic, str):\n",
    "            if x.romantic == 'yes':\n",
    "                x.failures = np.random.choice([0, 1, 2, 3], 1, p=[84/116, 18/116, 11/116, 3/116])[0]\n",
    "            elif x.romantic == 'no':\n",
    "                x.failures = np.random.choice([0, 1, 2, 3], 1, p=[187/229, 27/229, 5/229, 10/229])[0]\n",
    "        # если romantic не указано\n",
    "        else:\n",
    "            x.failures = np.random.choice([0, 1, 2, 3], 1, p=[293/372, 49/372, 16/372, 14/372])[0]\n",
    "    return x"
   ]
  },
  {
   "cell_type": "code",
   "execution_count": 191,
   "metadata": {},
   "outputs": [],
   "source": [
    "students = students.apply(fill_failures_by_romantic, axis=1)"
   ]
  },
  {
   "cell_type": "code",
   "execution_count": 192,
   "metadata": {},
   "outputs": [
    {
     "data": {
      "text/plain": [
       "no     240\n",
       "yes    123\n",
       "NaN     31\n",
       "Name: romantic, dtype: int64"
      ]
     },
     "execution_count": 192,
     "metadata": {},
     "output_type": "execute_result"
    }
   ],
   "source": [
    "students.romantic.value_counts(dropna=False)"
   ]
  },
  {
   "cell_type": "code",
   "execution_count": 193,
   "metadata": {},
   "outputs": [
    {
     "data": {
      "text/plain": [
       "0.0    310\n",
       "1.0     52\n",
       "2.0     18\n",
       "3.0     14\n",
       "Name: failures, dtype: int64"
      ]
     },
     "execution_count": 193,
     "metadata": {},
     "output_type": "execute_result"
    }
   ],
   "source": [
    "students.failures.value_counts(dropna=False)"
   ]
  },
  {
   "cell_type": "markdown",
   "metadata": {},
   "source": [
    "### schoolsup"
   ]
  },
  {
   "cell_type": "code",
   "execution_count": 194,
   "metadata": {},
   "outputs": [
    {
     "data": {
      "text/plain": [
       "no     334\n",
       "yes     51\n",
       "NaN      9\n",
       "Name: schoolsup, dtype: int64"
      ]
     },
     "execution_count": 194,
     "metadata": {},
     "output_type": "execute_result"
    }
   ],
   "source": [
    "students.schoolsup.value_counts(dropna=False)"
   ]
  },
  {
   "cell_type": "markdown",
   "metadata": {},
   "source": [
    "Признак бинарный категориальный. Посмотрим, имеет ли он статистическую значимость по тесту Стьюдента"
   ]
  },
  {
   "cell_type": "code",
   "execution_count": 195,
   "metadata": {},
   "outputs": [
    {
     "name": "stdout",
     "output_type": "stream",
     "text": [
      "Статистически значимые для schoolsup различия не найдены.\n"
     ]
    }
   ],
   "source": [
    "students_check = students.dropna(subset = ['schoolsup'])\n",
    "get_stat_diff(students_check, 'schoolsup', 'score')"
   ]
  },
  {
   "cell_type": "markdown",
   "metadata": {},
   "source": [
    "Оставим признак как есть, скорее всего он в итоговую модель не войдёт"
   ]
  },
  {
   "cell_type": "markdown",
   "metadata": {},
   "source": [
    "### famsup"
   ]
  },
  {
   "cell_type": "code",
   "execution_count": 196,
   "metadata": {},
   "outputs": [
    {
     "data": {
      "text/plain": [
       "yes    219\n",
       "no     136\n",
       "NaN     39\n",
       "Name: famsup, dtype: int64"
      ]
     },
     "execution_count": 196,
     "metadata": {},
     "output_type": "execute_result"
    }
   ],
   "source": [
    "students.famsup.value_counts(dropna=False)"
   ]
  },
  {
   "cell_type": "markdown",
   "metadata": {},
   "source": [
    "Признак бинарный категориальный. Посмотрим, имеет ли он статистическую значимость по тесту Стьюдента"
   ]
  },
  {
   "cell_type": "code",
   "execution_count": 197,
   "metadata": {},
   "outputs": [
    {
     "name": "stdout",
     "output_type": "stream",
     "text": [
      "Статистически значимые для famsup различия не найдены.\n"
     ]
    }
   ],
   "source": [
    "students_check = students.dropna(subset = ['famsup'])\n",
    "get_stat_diff(students_check, 'famsup', 'score')"
   ]
  },
  {
   "cell_type": "markdown",
   "metadata": {},
   "source": [
    "Оставим признак как есть, скорее всего он в итоговую модель не войдёт"
   ]
  },
  {
   "cell_type": "markdown",
   "metadata": {},
   "source": [
    "### paid"
   ]
  },
  {
   "cell_type": "code",
   "execution_count": 198,
   "metadata": {},
   "outputs": [
    {
     "data": {
      "text/plain": [
       "no     199\n",
       "yes    155\n",
       "NaN     40\n",
       "Name: paid, dtype: int64"
      ]
     },
     "execution_count": 198,
     "metadata": {},
     "output_type": "execute_result"
    }
   ],
   "source": [
    "students.paid.value_counts(dropna=False)"
   ]
  },
  {
   "cell_type": "markdown",
   "metadata": {},
   "source": [
    "Признак бинарный категориальный. Посмотрим, имеет ли он статистическую значимость по тесту Стьюдента"
   ]
  },
  {
   "cell_type": "code",
   "execution_count": 199,
   "metadata": {},
   "outputs": [
    {
     "name": "stdout",
     "output_type": "stream",
     "text": [
      "Статистически значимые для paid различия не найдены.\n"
     ]
    }
   ],
   "source": [
    "get_stat_diff(students, 'paid', 'score')"
   ]
  },
  {
   "cell_type": "markdown",
   "metadata": {},
   "source": [
    "Оставим признак как есть, скорее всего он в итоговую модель не войдёт"
   ]
  },
  {
   "cell_type": "markdown",
   "metadata": {},
   "source": [
    "### activities"
   ]
  },
  {
   "cell_type": "code",
   "execution_count": 200,
   "metadata": {},
   "outputs": [
    {
     "data": {
      "text/plain": [
       "yes    195\n",
       "no     185\n",
       "NaN     14\n",
       "Name: activities, dtype: int64"
      ]
     },
     "execution_count": 200,
     "metadata": {},
     "output_type": "execute_result"
    }
   ],
   "source": [
    "students.activities.value_counts(dropna=False)"
   ]
  },
  {
   "cell_type": "markdown",
   "metadata": {},
   "source": [
    "Признак бинарный категориальный. Посмотрим, имеет ли он статистическую значимость по тесту Стьюдента"
   ]
  },
  {
   "cell_type": "code",
   "execution_count": 201,
   "metadata": {},
   "outputs": [
    {
     "name": "stdout",
     "output_type": "stream",
     "text": [
      "Статистически значимые для activities различия не найдены.\n"
     ]
    }
   ],
   "source": [
    "students_check = students.dropna(subset = ['activities'])\n",
    "get_stat_diff(students_check, 'activities', 'score')"
   ]
  },
  {
   "cell_type": "markdown",
   "metadata": {},
   "source": [
    "Оставим признак как есть, скорее всего он в итоговую модель не войдёт"
   ]
  },
  {
   "cell_type": "markdown",
   "metadata": {},
   "source": [
    "### nursery"
   ]
  },
  {
   "cell_type": "code",
   "execution_count": 202,
   "metadata": {},
   "outputs": [
    {
     "data": {
      "text/plain": [
       "yes    300\n",
       "no      78\n",
       "NaN     16\n",
       "Name: nursery, dtype: int64"
      ]
     },
     "execution_count": 202,
     "metadata": {},
     "output_type": "execute_result"
    }
   ],
   "source": [
    "students.nursery.value_counts(dropna=False)"
   ]
  },
  {
   "cell_type": "markdown",
   "metadata": {},
   "source": [
    "Признак бинарный категориальный. Посмотрим, имеет ли он статистическую значимость по тесту Стьюдента"
   ]
  },
  {
   "cell_type": "code",
   "execution_count": 203,
   "metadata": {},
   "outputs": [
    {
     "name": "stdout",
     "output_type": "stream",
     "text": [
      "Статистически значимые для nursery различия не найдены.\n"
     ]
    }
   ],
   "source": [
    "students_check = students.dropna(subset = ['nursery'])\n",
    "get_stat_diff(students_check, 'nursery', 'score')"
   ]
  },
  {
   "cell_type": "markdown",
   "metadata": {},
   "source": [
    "Оставим признак как есть, скорее всего он в итоговую модель не войдёт"
   ]
  },
  {
   "cell_type": "markdown",
   "metadata": {},
   "source": [
    "### higher"
   ]
  },
  {
   "cell_type": "code",
   "execution_count": 204,
   "metadata": {},
   "outputs": [
    {
     "data": {
      "text/plain": [
       "yes    356\n",
       "NaN     20\n",
       "no      18\n",
       "Name: higher, dtype: int64"
      ]
     },
     "execution_count": 204,
     "metadata": {},
     "output_type": "execute_result"
    }
   ],
   "source": [
    "students.higher.value_counts(dropna=False)"
   ]
  },
  {
   "cell_type": "markdown",
   "metadata": {},
   "source": [
    "Признак бинарный категориальный. Посмотрим, имеет ли он статистическую значимость по тесту Стьюдента"
   ]
  },
  {
   "cell_type": "code",
   "execution_count": 205,
   "metadata": {},
   "outputs": [
    {
     "name": "stdout",
     "output_type": "stream",
     "text": [
      "Найдены статистически значимые различия для колонки higher\n"
     ]
    }
   ],
   "source": [
    "students_check = students.dropna(subset = ['higher'])\n",
    "get_stat_diff(students_check, 'higher', 'score')"
   ]
  },
  {
   "cell_type": "markdown",
   "metadata": {},
   "source": [
    "Имеет смысл заполнить пропущенные значения. Обычн если отец/мать имеют высшее образование, то они чаще мотивируют ребенка\n",
    "его так же получить. Проверим гипотезу:"
   ]
  },
  {
   "cell_type": "code",
   "execution_count": 206,
   "metadata": {},
   "outputs": [
    {
     "data": {
      "text/plain": [
       "higher\n",
       "no     1.888889\n",
       "yes    2.794944\n",
       "Name: Medu, dtype: float64"
      ]
     },
     "execution_count": 206,
     "metadata": {},
     "output_type": "execute_result"
    }
   ],
   "source": [
    "students.groupby('higher').Medu.mean()"
   ]
  },
  {
   "cell_type": "code",
   "execution_count": 207,
   "metadata": {},
   "outputs": [
    {
     "data": {
      "text/plain": [
       "higher\n",
       "no     2.0\n",
       "yes    3.0\n",
       "Name: Medu, dtype: float64"
      ]
     },
     "execution_count": 207,
     "metadata": {},
     "output_type": "execute_result"
    }
   ],
   "source": [
    "students.groupby('higher').Medu.median()"
   ]
  },
  {
   "cell_type": "markdown",
   "metadata": {},
   "source": [
    "Для простоты будем считать, что если образование матери не более 9 классов, то higher = no"
   ]
  },
  {
   "cell_type": "code",
   "execution_count": 208,
   "metadata": {},
   "outputs": [],
   "source": [
    "def fill_higher_by_medu(x):\n",
    "    if isinstance(x.higher, str):\n",
    "        return x\n",
    "    if x.Medu <= 2:\n",
    "        x.higher = 'no'\n",
    "    elif x.Medu > 2:\n",
    "        x.higher = 'yes'\n",
    "    return x"
   ]
  },
  {
   "cell_type": "code",
   "execution_count": 209,
   "metadata": {},
   "outputs": [],
   "source": [
    "students = students.apply(fill_higher_by_medu, axis=1)"
   ]
  },
  {
   "cell_type": "code",
   "execution_count": 210,
   "metadata": {},
   "outputs": [
    {
     "data": {
      "text/plain": [
       "yes    368\n",
       "no      26\n",
       "Name: higher, dtype: int64"
      ]
     },
     "execution_count": 210,
     "metadata": {},
     "output_type": "execute_result"
    }
   ],
   "source": [
    "students.higher.value_counts()"
   ]
  },
  {
   "cell_type": "markdown",
   "metadata": {},
   "source": [
    "### internet"
   ]
  },
  {
   "cell_type": "code",
   "execution_count": 211,
   "metadata": {},
   "outputs": [
    {
     "data": {
      "text/plain": [
       "yes    304\n",
       "no      56\n",
       "NaN     34\n",
       "Name: internet, dtype: int64"
      ]
     },
     "execution_count": 211,
     "metadata": {},
     "output_type": "execute_result"
    }
   ],
   "source": [
    "students.internet.value_counts(dropna=False)"
   ]
  },
  {
   "cell_type": "markdown",
   "metadata": {},
   "source": [
    "Признак бинарный категориальный. Посмотрим, имеет ли он статистическую значимость по тесту Стьюдента"
   ]
  },
  {
   "cell_type": "code",
   "execution_count": 212,
   "metadata": {},
   "outputs": [
    {
     "name": "stdout",
     "output_type": "stream",
     "text": [
      "Статистически значимые для internet различия не найдены.\n"
     ]
    }
   ],
   "source": [
    "students_check = students.dropna(subset = ['internet'])\n",
    "get_stat_diff(students_check, 'internet', 'score')"
   ]
  },
  {
   "cell_type": "markdown",
   "metadata": {},
   "source": [
    "Оставим признак как есть, скорее всего он в итоговую модель не войдёт"
   ]
  },
  {
   "cell_type": "markdown",
   "metadata": {},
   "source": [
    "### romantic"
   ]
  },
  {
   "cell_type": "code",
   "execution_count": 213,
   "metadata": {},
   "outputs": [
    {
     "data": {
      "text/plain": [
       "no     240\n",
       "yes    123\n",
       "NaN     31\n",
       "Name: romantic, dtype: int64"
      ]
     },
     "execution_count": 213,
     "metadata": {},
     "output_type": "execute_result"
    }
   ],
   "source": [
    "students.romantic.value_counts(dropna=False)"
   ]
  },
  {
   "cell_type": "markdown",
   "metadata": {},
   "source": [
    "Признак бинарный категориальный. Посмотрим, имеет ли он статистическую значимость по тесту Стьюдента"
   ]
  },
  {
   "cell_type": "code",
   "execution_count": 214,
   "metadata": {},
   "outputs": [
    {
     "name": "stdout",
     "output_type": "stream",
     "text": [
      "Найдены статистически значимые различия для колонки romantic\n"
     ]
    }
   ],
   "source": [
    "students_check = students.dropna(subset = ['romantic'])\n",
    "get_stat_diff(students_check, 'romantic', 'score')"
   ]
  },
  {
   "cell_type": "markdown",
   "metadata": {},
   "source": [
    "Оказывается, романтические отношения сильно влияют на оценку по математике! Заполним пропущенные значения случайным образом на основе вероятности быть в отношениях на предыдущих данных"
   ]
  },
  {
   "cell_type": "code",
   "execution_count": 215,
   "metadata": {},
   "outputs": [],
   "source": [
    "def fill_romantic(x):\n",
    "    if isinstance(x.romantic, str):\n",
    "        return x\n",
    "    x.romantic = np.random.choice(['yes', 'no'], 1, p=[123/363, 240/363])[0]\n",
    "    return x"
   ]
  },
  {
   "cell_type": "code",
   "execution_count": 216,
   "metadata": {},
   "outputs": [],
   "source": [
    "students = students.apply(fill_romantic, axis=1)"
   ]
  },
  {
   "cell_type": "code",
   "execution_count": 217,
   "metadata": {},
   "outputs": [
    {
     "data": {
      "text/plain": [
       "no     260\n",
       "yes    134\n",
       "Name: romantic, dtype: int64"
      ]
     },
     "execution_count": 217,
     "metadata": {},
     "output_type": "execute_result"
    }
   ],
   "source": [
    "students.romantic.value_counts()"
   ]
  },
  {
   "cell_type": "markdown",
   "metadata": {},
   "source": [
    "### famrel"
   ]
  },
  {
   "cell_type": "code",
   "execution_count": 218,
   "metadata": {},
   "outputs": [
    {
     "data": {
      "text/plain": [
       " 4.0    182\n",
       " 5.0     98\n",
       " 3.0     62\n",
       " NaN     27\n",
       " 2.0     17\n",
       " 1.0      7\n",
       "-1.0      1\n",
       "Name: famrel, dtype: int64"
      ]
     },
     "execution_count": 218,
     "metadata": {},
     "output_type": "execute_result"
    }
   ],
   "source": [
    "students.famrel.value_counts(dropna=False)"
   ]
  },
  {
   "cell_type": "markdown",
   "metadata": {},
   "source": [
    "Признак количественный, с одним неверно заполненным значением и 27 отсутствующих. Заполним их медианой"
   ]
  },
  {
   "cell_type": "code",
   "execution_count": 219,
   "metadata": {},
   "outputs": [],
   "source": [
    "students.loc[students.famrel == -1, 'famrel'] = students.famrel.median()\n",
    "students.famrel.fillna(students.famrel.median(), inplace=True)"
   ]
  },
  {
   "cell_type": "code",
   "execution_count": 220,
   "metadata": {},
   "outputs": [
    {
     "data": {
      "text/plain": [
       "4.0    210\n",
       "5.0     98\n",
       "3.0     62\n",
       "2.0     17\n",
       "1.0      7\n",
       "Name: famrel, dtype: int64"
      ]
     },
     "execution_count": 220,
     "metadata": {},
     "output_type": "execute_result"
    }
   ],
   "source": [
    "students.famrel.value_counts(dropna=False)"
   ]
  },
  {
   "cell_type": "markdown",
   "metadata": {},
   "source": [
    "### freetime"
   ]
  },
  {
   "cell_type": "code",
   "execution_count": 221,
   "metadata": {},
   "outputs": [
    {
     "data": {
      "text/plain": [
       "3.0    153\n",
       "4.0    111\n",
       "2.0     63\n",
       "5.0     38\n",
       "1.0     18\n",
       "NaN     11\n",
       "Name: freetime, dtype: int64"
      ]
     },
     "execution_count": 221,
     "metadata": {},
     "output_type": "execute_result"
    }
   ],
   "source": [
    "students.freetime.value_counts(dropna=False)"
   ]
  },
  {
   "cell_type": "markdown",
   "metadata": {},
   "source": [
    "Признак количественный, с 11 отсутствующих значениями. Заполним их медианой"
   ]
  },
  {
   "cell_type": "code",
   "execution_count": 222,
   "metadata": {},
   "outputs": [],
   "source": [
    "students.freetime.fillna(students.freetime.median(), inplace=True)"
   ]
  },
  {
   "cell_type": "code",
   "execution_count": 223,
   "metadata": {},
   "outputs": [
    {
     "data": {
      "text/plain": [
       "3.0    164\n",
       "4.0    111\n",
       "2.0     63\n",
       "5.0     38\n",
       "1.0     18\n",
       "Name: freetime, dtype: int64"
      ]
     },
     "execution_count": 223,
     "metadata": {},
     "output_type": "execute_result"
    }
   ],
   "source": [
    "students.freetime.value_counts(dropna=False)"
   ]
  },
  {
   "cell_type": "markdown",
   "metadata": {},
   "source": [
    "### goout"
   ]
  },
  {
   "cell_type": "code",
   "execution_count": 224,
   "metadata": {},
   "outputs": [
    {
     "data": {
      "text/plain": [
       "3.0    127\n",
       "2.0    101\n",
       "4.0     84\n",
       "5.0     51\n",
       "1.0     23\n",
       "NaN      8\n",
       "Name: goout, dtype: int64"
      ]
     },
     "execution_count": 224,
     "metadata": {},
     "output_type": "execute_result"
    }
   ],
   "source": [
    "students.goout.value_counts(dropna=False)"
   ]
  },
  {
   "cell_type": "markdown",
   "metadata": {},
   "source": [
    "Признак количественный, с 8 отсутствующих значениями. Заполним их медианой"
   ]
  },
  {
   "cell_type": "code",
   "execution_count": 225,
   "metadata": {},
   "outputs": [],
   "source": [
    "students.goout.fillna(students.goout.median(), inplace=True)"
   ]
  },
  {
   "cell_type": "code",
   "execution_count": 226,
   "metadata": {},
   "outputs": [
    {
     "data": {
      "text/plain": [
       "3.0    135\n",
       "2.0    101\n",
       "4.0     84\n",
       "5.0     51\n",
       "1.0     23\n",
       "Name: goout, dtype: int64"
      ]
     },
     "execution_count": 226,
     "metadata": {},
     "output_type": "execute_result"
    }
   ],
   "source": [
    "students.goout.value_counts(dropna=False)"
   ]
  },
  {
   "cell_type": "markdown",
   "metadata": {},
   "source": [
    "### health"
   ]
  },
  {
   "cell_type": "code",
   "execution_count": 227,
   "metadata": {},
   "outputs": [
    {
     "data": {
      "text/plain": [
       "5.0    138\n",
       "3.0     89\n",
       "4.0     63\n",
       "1.0     46\n",
       "2.0     43\n",
       "NaN     15\n",
       "Name: health, dtype: int64"
      ]
     },
     "execution_count": 227,
     "metadata": {},
     "output_type": "execute_result"
    }
   ],
   "source": [
    "students.health.value_counts(dropna=False)"
   ]
  },
  {
   "cell_type": "markdown",
   "metadata": {},
   "source": [
    "Признак количественный, с 15 отсутствующих значениями. Заполним их медианой"
   ]
  },
  {
   "cell_type": "code",
   "execution_count": 228,
   "metadata": {},
   "outputs": [],
   "source": [
    "students.health.fillna(students.health.median(), inplace=True)"
   ]
  },
  {
   "cell_type": "code",
   "execution_count": 229,
   "metadata": {},
   "outputs": [
    {
     "data": {
      "text/plain": [
       "5.0    138\n",
       "3.0     89\n",
       "4.0     78\n",
       "1.0     46\n",
       "2.0     43\n",
       "Name: health, dtype: int64"
      ]
     },
     "execution_count": 229,
     "metadata": {},
     "output_type": "execute_result"
    }
   ],
   "source": [
    "students.health.value_counts(dropna=False)"
   ]
  },
  {
   "cell_type": "markdown",
   "metadata": {},
   "source": [
    "### absences"
   ]
  },
  {
   "cell_type": "code",
   "execution_count": 230,
   "metadata": {},
   "outputs": [
    {
     "data": {
      "text/plain": [
       "0.0      111\n",
       "2.0       60\n",
       "4.0       53\n",
       "6.0       31\n",
       "8.0       21\n",
       "10.0      17\n",
       "12.0      12\n",
       "NaN       12\n",
       "14.0      12\n",
       "3.0        8\n",
       "16.0       6\n",
       "7.0        6\n",
       "5.0        5\n",
       "18.0       5\n",
       "20.0       4\n",
       "1.0        3\n",
       "22.0       3\n",
       "9.0        3\n",
       "13.0       2\n",
       "15.0       2\n",
       "11.0       2\n",
       "25.0       1\n",
       "54.0       1\n",
       "385.0      1\n",
       "26.0       1\n",
       "56.0       1\n",
       "24.0       1\n",
       "212.0      1\n",
       "21.0       1\n",
       "75.0       1\n",
       "30.0       1\n",
       "19.0       1\n",
       "38.0       1\n",
       "40.0       1\n",
       "23.0       1\n",
       "17.0       1\n",
       "28.0       1\n",
       "Name: absences, dtype: int64"
      ]
     },
     "execution_count": 230,
     "metadata": {},
     "output_type": "execute_result"
    }
   ],
   "source": [
    "students.absences.value_counts(dropna=False)"
   ]
  },
  {
   "cell_type": "markdown",
   "metadata": {},
   "source": [
    "Признак количественный, будем считать что при NaN пропущенных значений нет:"
   ]
  },
  {
   "cell_type": "code",
   "execution_count": 231,
   "metadata": {},
   "outputs": [],
   "source": [
    "students.absences.fillna(0, inplace=True)"
   ]
  },
  {
   "cell_type": "code",
   "execution_count": 232,
   "metadata": {},
   "outputs": [
    {
     "data": {
      "text/plain": [
       "<matplotlib.axes._subplots.AxesSubplot at 0x1c704946ef0>"
      ]
     },
     "execution_count": 232,
     "metadata": {},
     "output_type": "execute_result"
    },
    {
     "data": {
      "image/png": "[encoded data removed]",
      "text/plain": [
       "<Figure size 432x288 with 1 Axes>"
      ]
     },
     "metadata": {
      "needs_background": "light"
     },
     "output_type": "display_data"
    }
   ],
   "source": [
    "students.absences.hist(bins=20)"
   ]
  },
  {
   "cell_type": "code",
   "execution_count": 233,
   "metadata": {},
   "outputs": [
    {
     "data": {
      "text/plain": [
       "0"
      ]
     },
     "execution_count": 233,
     "metadata": {},
     "output_type": "execute_result"
    }
   ],
   "source": [
    "students.absences.isnull().sum()"
   ]
  },
  {
   "cell_type": "markdown",
   "metadata": {},
   "source": [
    "Интуитивно гистограмма имеет выбросы, попробуем их устранить из исходного датасета:"
   ]
  },
  {
   "cell_type": "code",
   "execution_count": 234,
   "metadata": {},
   "outputs": [
    {
     "name": "stdout",
     "output_type": "stream",
     "text": [
      "25-й перцентиль: 0.0, 75-й перцентиль: 8.0, IQR: 8.0,  Границы выбросов: [-12.0, 20.0].\n"
     ]
    },
    {
     "data": {
      "image/png": "[encoded data removed]",
      "text/plain": [
       "<Figure size 432x288 with 1 Axes>"
      ]
     },
     "metadata": {
      "needs_background": "light"
     },
     "output_type": "display_data"
    }
   ],
   "source": [
    "median = students.absences.median()\n",
    "IQR = students.absences.quantile(0.75) - students.absences.quantile(0.25)\n",
    "perc25 = students.absences.quantile(0.25)\n",
    "perc75 = students.absences.quantile(0.75)\n",
    "print('25-й перцентиль: {},'.format(perc25), '75-й перцентиль: {},'.format(perc75)\n",
    "      , \"IQR: {}, \".format(IQR),\"Границы выбросов: [{f}, {l}].\".format(f=perc25 - 1.5*IQR, l=perc75 + 1.5*IQR))\n",
    "students.absences.loc[students.absences.between(perc25 - 1.5*IQR, perc75 + 1.5*IQR)].hist(bins = 10\n",
    "                                                                                              , range = (15, 25), \n",
    "                                                                                             label = 'IQR')\n",
    "students.absences.loc[students.absences <= 100].hist(alpha = 0.5, bins = 10, range = (15, 22),\n",
    "                                                        label = 'Здравый смысл')\n",
    "plt.legend();"
   ]
  },
  {
   "cell_type": "code",
   "execution_count": 235,
   "metadata": {},
   "outputs": [
    {
     "name": "stdout",
     "output_type": "stream",
     "text": [
      "<class 'pandas.core.frame.DataFrame'>\n",
      "Int64Index: 377 entries, 0 to 394\n",
      "Data columns (total 30 columns):\n",
      " #   Column               Non-Null Count  Dtype  \n",
      "---  ------               --------------  -----  \n",
      " 0   school               377 non-null    object \n",
      " 1   sex                  377 non-null    object \n",
      " 2   age                  377 non-null    int64  \n",
      " 3   address              377 non-null    object \n",
      " 4   famsize              377 non-null    object \n",
      " 5   Pstatus              377 non-null    object \n",
      " 6   Medu                 377 non-null    float64\n",
      " 7   Fedu                 377 non-null    float64\n",
      " 8   Mjob                 377 non-null    object \n",
      " 9   Fjob                 377 non-null    object \n",
      " 10  reason               377 non-null    object \n",
      " 11  guardian             377 non-null    object \n",
      " 12  traveltime           377 non-null    float64\n",
      " 13  studytime            377 non-null    float64\n",
      " 14  failures             377 non-null    float64\n",
      " 15  schoolsup            368 non-null    object \n",
      " 16  famsup               342 non-null    object \n",
      " 17  paid                 338 non-null    object \n",
      " 18  activities           363 non-null    object \n",
      " 19  nursery              361 non-null    object \n",
      " 20  studytime, granular  370 non-null    float64\n",
      " 21  higher               377 non-null    object \n",
      " 22  internet             344 non-null    object \n",
      " 23  romantic             377 non-null    object \n",
      " 24  famrel               377 non-null    float64\n",
      " 25  freetime             377 non-null    float64\n",
      " 26  goout                377 non-null    float64\n",
      " 27  health               377 non-null    float64\n",
      " 28  absences             377 non-null    float64\n",
      " 29  score                377 non-null    float64\n",
      "dtypes: float64(12), int64(1), object(17)\n",
      "memory usage: 91.3+ KB\n"
     ]
    }
   ],
   "source": [
    "students = subset_by_remove_outliers(students, 'absences')\n",
    "students.info()"
   ]
  },
  {
   "cell_type": "markdown",
   "metadata": {},
   "source": [
    "Итого удалили 18 записей"
   ]
  },
  {
   "cell_type": "markdown",
   "metadata": {},
   "source": [
    "### studytime, granular"
   ]
  },
  {
   "cell_type": "code",
   "execution_count": 236,
   "metadata": {},
   "outputs": [
    {
     "data": {
      "text/plain": [
       "-6.0     183\n",
       "-3.0      98\n",
       "-9.0      62\n",
       "-12.0     27\n",
       " NaN       7\n",
       "Name: studytime, granular, dtype: int64"
      ]
     },
     "execution_count": 236,
     "metadata": {},
     "output_type": "execute_result"
    }
   ],
   "source": [
    "students['studytime, granular'].value_counts(dropna=False)"
   ]
  },
  {
   "cell_type": "markdown",
   "metadata": {},
   "source": [
    "Признак будем считать количественным, заполним пропущенные значения медианой"
   ]
  },
  {
   "cell_type": "code",
   "execution_count": 237,
   "metadata": {},
   "outputs": [],
   "source": [
    "students['studytime, granular'].fillna(students['studytime, granular'].median(), inplace=True)"
   ]
  },
  {
   "cell_type": "code",
   "execution_count": 238,
   "metadata": {},
   "outputs": [
    {
     "data": {
      "text/plain": [
       "-6.0     190\n",
       "-3.0      98\n",
       "-9.0      62\n",
       "-12.0     27\n",
       "Name: studytime, granular, dtype: int64"
      ]
     },
     "execution_count": 238,
     "metadata": {},
     "output_type": "execute_result"
    }
   ],
   "source": [
    "students['studytime, granular'].value_counts(dropna=False)"
   ]
  },
  {
   "cell_type": "markdown",
   "metadata": {},
   "source": [
    "# Анализ влияния категориальных переменных"
   ]
  },
  {
   "cell_type": "markdown",
   "metadata": {},
   "source": [
    "Список переменных, которые рассматриваются как категориальные:"
   ]
  },
  {
   "cell_type": "code",
   "execution_count": 239,
   "metadata": {},
   "outputs": [],
   "source": [
    "categorical = ['school', 'sex', 'address', 'famsize', 'Pstatus', 'Mjob', 'Fjob', 'reason', 'guardian', 'schoolsup', 'famsup',\n",
    "              'paid', 'activities', 'nursery', 'higher', 'internet', 'romantic']"
   ]
  },
  {
   "cell_type": "markdown",
   "metadata": {},
   "source": [
    "Оценим их статистическую значимость по тесту Стьюдента:"
   ]
  },
  {
   "cell_type": "code",
   "execution_count": 240,
   "metadata": {},
   "outputs": [
    {
     "name": "stdout",
     "output_type": "stream",
     "text": [
      "Статистически значимые для school различия не найдены.\n",
      "Найдены статистически значимые различия для колонки sex\n",
      "Статистически значимые для address различия не найдены.\n",
      "Статистически значимые для famsize различия не найдены.\n",
      "Статистически значимые для Pstatus различия не найдены.\n",
      "Найдены статистически значимые различия для колонки Mjob\n",
      "Статистически значимые для Fjob различия не найдены.\n",
      "Статистически значимые для reason различия не найдены.\n",
      "Статистически значимые для guardian различия не найдены.\n",
      "Статистически значимые для schoolsup различия не найдены.\n",
      "Статистически значимые для famsup различия не найдены.\n",
      "Найдены статистически значимые различия для колонки paid\n",
      "Статистически значимые для activities различия не найдены.\n",
      "Статистически значимые для nursery различия не найдены.\n",
      "Найдены статистически значимые различия для колонки higher\n",
      "Статистически значимые для internet различия не найдены.\n",
      "Найдены статистически значимые различия для колонки romantic\n"
     ]
    }
   ],
   "source": [
    "for col in categorical:\n",
    "    get_stat_diff(students, col, 'score')"
   ]
  },
  {
   "cell_type": "markdown",
   "metadata": {},
   "source": [
    "Удалим не значимые категориальные признаки"
   ]
  },
  {
   "cell_type": "code",
   "execution_count": 241,
   "metadata": {},
   "outputs": [],
   "source": [
    "students = students.drop(['school', 'address', 'famsize', 'Pstatus', 'Fjob', 'reason', 'guardian', 'schoolsup',\n",
    "                         'famsup', 'activities', 'nursery', 'internet'], axis=1)"
   ]
  },
  {
   "cell_type": "code",
   "execution_count": 242,
   "metadata": {},
   "outputs": [
    {
     "name": "stdout",
     "output_type": "stream",
     "text": [
      "<class 'pandas.core.frame.DataFrame'>\n",
      "Int64Index: 377 entries, 0 to 394\n",
      "Data columns (total 18 columns):\n",
      " #   Column               Non-Null Count  Dtype  \n",
      "---  ------               --------------  -----  \n",
      " 0   sex                  377 non-null    object \n",
      " 1   age                  377 non-null    int64  \n",
      " 2   Medu                 377 non-null    float64\n",
      " 3   Fedu                 377 non-null    float64\n",
      " 4   Mjob                 377 non-null    object \n",
      " 5   traveltime           377 non-null    float64\n",
      " 6   studytime            377 non-null    float64\n",
      " 7   failures             377 non-null    float64\n",
      " 8   paid                 338 non-null    object \n",
      " 9   studytime, granular  377 non-null    float64\n",
      " 10  higher               377 non-null    object \n",
      " 11  romantic             377 non-null    object \n",
      " 12  famrel               377 non-null    float64\n",
      " 13  freetime             377 non-null    float64\n",
      " 14  goout                377 non-null    float64\n",
      " 15  health               377 non-null    float64\n",
      " 16  absences             377 non-null    float64\n",
      " 17  score                377 non-null    float64\n",
      "dtypes: float64(12), int64(1), object(5)\n",
      "memory usage: 56.0+ KB\n"
     ]
    }
   ],
   "source": [
    "students.info()"
   ]
  },
  {
   "cell_type": "markdown",
   "metadata": {},
   "source": [
    "Как видим признак paid обрел статистическую значимость после всех преобразований. Заполним в нём пустые значения"
   ]
  },
  {
   "cell_type": "code",
   "execution_count": 243,
   "metadata": {},
   "outputs": [
    {
     "data": {
      "text/plain": [
       "no     232\n",
       "yes    145\n",
       "Name: paid, dtype: int64"
      ]
     },
     "execution_count": 243,
     "metadata": {},
     "output_type": "execute_result"
    }
   ],
   "source": [
    "students.paid.fillna('no', inplace=True)\n",
    "students.paid.value_counts()"
   ]
  },
  {
   "cell_type": "code",
   "execution_count": 244,
   "metadata": {},
   "outputs": [
    {
     "name": "stdout",
     "output_type": "stream",
     "text": [
      "Найдены статистически значимые различия для колонки paid\n"
     ]
    }
   ],
   "source": [
    "get_stat_diff(students, 'paid', 'score')"
   ]
  },
  {
   "cell_type": "markdown",
   "metadata": {},
   "source": [
    "Впоследствии предполагается заменить категориальные признаки методикой one-hot-encoding, либо преобразовать к числовым заменой один к одному"
   ]
  },
  {
   "cell_type": "markdown",
   "metadata": {},
   "source": [
    "# Анализ влияния количественных переменных"
   ]
  },
  {
   "cell_type": "code",
   "execution_count": 245,
   "metadata": {},
   "outputs": [
    {
     "data": {
      "text/html": [
       "<div>\n",
       "<style scoped>\n",
       "    .dataframe tbody tr th:only-of-type {\n",
       "        vertical-align: middle;\n",
       "    }\n",
       "\n",
       "    .dataframe tbody tr th {\n",
       "        vertical-align: top;\n",
       "    }\n",
       "\n",
       "    .dataframe thead th {\n",
       "        text-align: right;\n",
       "    }\n",
       "</style>\n",
       "<table border=\"1\" class=\"dataframe\">\n",
       "  <thead>\n",
       "    <tr style=\"text-align: right;\">\n",
       "      <th></th>\n",
       "      <th>age</th>\n",
       "      <th>Medu</th>\n",
       "      <th>Fedu</th>\n",
       "      <th>traveltime</th>\n",
       "      <th>studytime</th>\n",
       "      <th>failures</th>\n",
       "      <th>studytime, granular</th>\n",
       "      <th>famrel</th>\n",
       "      <th>freetime</th>\n",
       "      <th>goout</th>\n",
       "      <th>health</th>\n",
       "      <th>absences</th>\n",
       "      <th>score</th>\n",
       "    </tr>\n",
       "  </thead>\n",
       "  <tbody>\n",
       "    <tr>\n",
       "      <th>age</th>\n",
       "      <td>1.000000</td>\n",
       "      <td>-0.185715</td>\n",
       "      <td>-0.164303</td>\n",
       "      <td>0.060582</td>\n",
       "      <td>0.003321</td>\n",
       "      <td>0.156998</td>\n",
       "      <td>-0.003321</td>\n",
       "      <td>0.043383</td>\n",
       "      <td>0.041976</td>\n",
       "      <td>0.133867</td>\n",
       "      <td>-0.041651</td>\n",
       "      <td>0.118910</td>\n",
       "      <td>-0.158100</td>\n",
       "    </tr>\n",
       "    <tr>\n",
       "      <th>Medu</th>\n",
       "      <td>-0.185715</td>\n",
       "      <td>1.000000</td>\n",
       "      <td>0.595764</td>\n",
       "      <td>-0.181124</td>\n",
       "      <td>0.096700</td>\n",
       "      <td>-0.247755</td>\n",
       "      <td>-0.096700</td>\n",
       "      <td>-0.020373</td>\n",
       "      <td>0.045253</td>\n",
       "      <td>0.053138</td>\n",
       "      <td>-0.046280</td>\n",
       "      <td>0.068600</td>\n",
       "      <td>0.214650</td>\n",
       "    </tr>\n",
       "    <tr>\n",
       "      <th>Fedu</th>\n",
       "      <td>-0.164303</td>\n",
       "      <td>0.595764</td>\n",
       "      <td>1.000000</td>\n",
       "      <td>-0.126832</td>\n",
       "      <td>0.014256</td>\n",
       "      <td>-0.257287</td>\n",
       "      <td>-0.014256</td>\n",
       "      <td>-0.019765</td>\n",
       "      <td>-0.012511</td>\n",
       "      <td>0.046813</td>\n",
       "      <td>0.016435</td>\n",
       "      <td>-0.021210</td>\n",
       "      <td>0.115910</td>\n",
       "    </tr>\n",
       "    <tr>\n",
       "      <th>traveltime</th>\n",
       "      <td>0.060582</td>\n",
       "      <td>-0.181124</td>\n",
       "      <td>-0.126832</td>\n",
       "      <td>1.000000</td>\n",
       "      <td>-0.093292</td>\n",
       "      <td>0.065344</td>\n",
       "      <td>0.093292</td>\n",
       "      <td>-0.050324</td>\n",
       "      <td>0.000437</td>\n",
       "      <td>0.015764</td>\n",
       "      <td>0.003960</td>\n",
       "      <td>-0.037240</td>\n",
       "      <td>-0.073686</td>\n",
       "    </tr>\n",
       "    <tr>\n",
       "      <th>studytime</th>\n",
       "      <td>0.003321</td>\n",
       "      <td>0.096700</td>\n",
       "      <td>0.014256</td>\n",
       "      <td>-0.093292</td>\n",
       "      <td>1.000000</td>\n",
       "      <td>-0.169290</td>\n",
       "      <td>-1.000000</td>\n",
       "      <td>0.028422</td>\n",
       "      <td>-0.128670</td>\n",
       "      <td>-0.033993</td>\n",
       "      <td>-0.086519</td>\n",
       "      <td>-0.064534</td>\n",
       "      <td>0.117274</td>\n",
       "    </tr>\n",
       "    <tr>\n",
       "      <th>failures</th>\n",
       "      <td>0.156998</td>\n",
       "      <td>-0.247755</td>\n",
       "      <td>-0.257287</td>\n",
       "      <td>0.065344</td>\n",
       "      <td>-0.169290</td>\n",
       "      <td>1.000000</td>\n",
       "      <td>0.169290</td>\n",
       "      <td>-0.004064</td>\n",
       "      <td>0.088874</td>\n",
       "      <td>0.084116</td>\n",
       "      <td>0.116080</td>\n",
       "      <td>0.046595</td>\n",
       "      <td>-0.319762</td>\n",
       "    </tr>\n",
       "    <tr>\n",
       "      <th>studytime, granular</th>\n",
       "      <td>-0.003321</td>\n",
       "      <td>-0.096700</td>\n",
       "      <td>-0.014256</td>\n",
       "      <td>0.093292</td>\n",
       "      <td>-1.000000</td>\n",
       "      <td>0.169290</td>\n",
       "      <td>1.000000</td>\n",
       "      <td>-0.028422</td>\n",
       "      <td>0.128670</td>\n",
       "      <td>0.033993</td>\n",
       "      <td>0.086519</td>\n",
       "      <td>0.064534</td>\n",
       "      <td>-0.117274</td>\n",
       "    </tr>\n",
       "    <tr>\n",
       "      <th>famrel</th>\n",
       "      <td>0.043383</td>\n",
       "      <td>-0.020373</td>\n",
       "      <td>-0.019765</td>\n",
       "      <td>-0.050324</td>\n",
       "      <td>0.028422</td>\n",
       "      <td>-0.004064</td>\n",
       "      <td>-0.028422</td>\n",
       "      <td>1.000000</td>\n",
       "      <td>0.152924</td>\n",
       "      <td>0.058001</td>\n",
       "      <td>0.095618</td>\n",
       "      <td>-0.067800</td>\n",
       "      <td>0.062058</td>\n",
       "    </tr>\n",
       "    <tr>\n",
       "      <th>freetime</th>\n",
       "      <td>0.041976</td>\n",
       "      <td>0.045253</td>\n",
       "      <td>-0.012511</td>\n",
       "      <td>0.000437</td>\n",
       "      <td>-0.128670</td>\n",
       "      <td>0.088874</td>\n",
       "      <td>0.128670</td>\n",
       "      <td>0.152924</td>\n",
       "      <td>1.000000</td>\n",
       "      <td>0.276817</td>\n",
       "      <td>0.056804</td>\n",
       "      <td>0.079144</td>\n",
       "      <td>0.039709</td>\n",
       "    </tr>\n",
       "    <tr>\n",
       "      <th>goout</th>\n",
       "      <td>0.133867</td>\n",
       "      <td>0.053138</td>\n",
       "      <td>0.046813</td>\n",
       "      <td>0.015764</td>\n",
       "      <td>-0.033993</td>\n",
       "      <td>0.084116</td>\n",
       "      <td>0.033993</td>\n",
       "      <td>0.058001</td>\n",
       "      <td>0.276817</td>\n",
       "      <td>1.000000</td>\n",
       "      <td>0.003971</td>\n",
       "      <td>0.081667</td>\n",
       "      <td>-0.107419</td>\n",
       "    </tr>\n",
       "    <tr>\n",
       "      <th>health</th>\n",
       "      <td>-0.041651</td>\n",
       "      <td>-0.046280</td>\n",
       "      <td>0.016435</td>\n",
       "      <td>0.003960</td>\n",
       "      <td>-0.086519</td>\n",
       "      <td>0.116080</td>\n",
       "      <td>0.086519</td>\n",
       "      <td>0.095618</td>\n",
       "      <td>0.056804</td>\n",
       "      <td>0.003971</td>\n",
       "      <td>1.000000</td>\n",
       "      <td>-0.000891</td>\n",
       "      <td>-0.077633</td>\n",
       "    </tr>\n",
       "    <tr>\n",
       "      <th>absences</th>\n",
       "      <td>0.118910</td>\n",
       "      <td>0.068600</td>\n",
       "      <td>-0.021210</td>\n",
       "      <td>-0.037240</td>\n",
       "      <td>-0.064534</td>\n",
       "      <td>0.046595</td>\n",
       "      <td>0.064534</td>\n",
       "      <td>-0.067800</td>\n",
       "      <td>0.079144</td>\n",
       "      <td>0.081667</td>\n",
       "      <td>-0.000891</td>\n",
       "      <td>1.000000</td>\n",
       "      <td>0.073072</td>\n",
       "    </tr>\n",
       "    <tr>\n",
       "      <th>score</th>\n",
       "      <td>-0.158100</td>\n",
       "      <td>0.214650</td>\n",
       "      <td>0.115910</td>\n",
       "      <td>-0.073686</td>\n",
       "      <td>0.117274</td>\n",
       "      <td>-0.319762</td>\n",
       "      <td>-0.117274</td>\n",
       "      <td>0.062058</td>\n",
       "      <td>0.039709</td>\n",
       "      <td>-0.107419</td>\n",
       "      <td>-0.077633</td>\n",
       "      <td>0.073072</td>\n",
       "      <td>1.000000</td>\n",
       "    </tr>\n",
       "  </tbody>\n",
       "</table>\n",
       "</div>"
      ],
      "text/plain": [
       "                          age      Medu      Fedu  traveltime  studytime  \\\n",
       "age                  1.000000 -0.185715 -0.164303    0.060582   0.003321   \n",
       "Medu                -0.185715  1.000000  0.595764   -0.181124   0.096700   \n",
       "Fedu                -0.164303  0.595764  1.000000   -0.126832   0.014256   \n",
       "traveltime           0.060582 -0.181124 -0.126832    1.000000  -0.093292   \n",
       "studytime            0.003321  0.096700  0.014256   -0.093292   1.000000   \n",
       "failures             0.156998 -0.247755 -0.257287    0.065344  -0.169290   \n",
       "studytime, granular -0.003321 -0.096700 -0.014256    0.093292  -1.000000   \n",
       "famrel               0.043383 -0.020373 -0.019765   -0.050324   0.028422   \n",
       "freetime             0.041976  0.045253 -0.012511    0.000437  -0.128670   \n",
       "goout                0.133867  0.053138  0.046813    0.015764  -0.033993   \n",
       "health              -0.041651 -0.046280  0.016435    0.003960  -0.086519   \n",
       "absences             0.118910  0.068600 -0.021210   -0.037240  -0.064534   \n",
       "score               -0.158100  0.214650  0.115910   -0.073686   0.117274   \n",
       "\n",
       "                     failures  studytime, granular    famrel  freetime  \\\n",
       "age                  0.156998            -0.003321  0.043383  0.041976   \n",
       "Medu                -0.247755            -0.096700 -0.020373  0.045253   \n",
       "Fedu                -0.257287            -0.014256 -0.019765 -0.012511   \n",
       "traveltime           0.065344             0.093292 -0.050324  0.000437   \n",
       "studytime           -0.169290            -1.000000  0.028422 -0.128670   \n",
       "failures             1.000000             0.169290 -0.004064  0.088874   \n",
       "studytime, granular  0.169290             1.000000 -0.028422  0.128670   \n",
       "famrel              -0.004064            -0.028422  1.000000  0.152924   \n",
       "freetime             0.088874             0.128670  0.152924  1.000000   \n",
       "goout                0.084116             0.033993  0.058001  0.276817   \n",
       "health               0.116080             0.086519  0.095618  0.056804   \n",
       "absences             0.046595             0.064534 -0.067800  0.079144   \n",
       "score               -0.319762            -0.117274  0.062058  0.039709   \n",
       "\n",
       "                        goout    health  absences     score  \n",
       "age                  0.133867 -0.041651  0.118910 -0.158100  \n",
       "Medu                 0.053138 -0.046280  0.068600  0.214650  \n",
       "Fedu                 0.046813  0.016435 -0.021210  0.115910  \n",
       "traveltime           0.015764  0.003960 -0.037240 -0.073686  \n",
       "studytime           -0.033993 -0.086519 -0.064534  0.117274  \n",
       "failures             0.084116  0.116080  0.046595 -0.319762  \n",
       "studytime, granular  0.033993  0.086519  0.064534 -0.117274  \n",
       "famrel               0.058001  0.095618 -0.067800  0.062058  \n",
       "freetime             0.276817  0.056804  0.079144  0.039709  \n",
       "goout                1.000000  0.003971  0.081667 -0.107419  \n",
       "health               0.003971  1.000000 -0.000891 -0.077633  \n",
       "absences             0.081667 -0.000891  1.000000  0.073072  \n",
       "score               -0.107419 -0.077633  0.073072  1.000000  "
      ]
     },
     "execution_count": 245,
     "metadata": {},
     "output_type": "execute_result"
    }
   ],
   "source": [
    "students.corr()"
   ]
  },
  {
   "cell_type": "markdown",
   "metadata": {},
   "source": [
    "Переменные Medu и Fedu достаточно хорошо скоррелированы, что позволяет сделать вывод о том, что в семье у родителей примерно одинаковое образование. \n",
    "Переменная studytime полностью обратно скоррелирована с studytime, granular, что позволяет одну из них удалить."
   ]
  },
  {
   "cell_type": "markdown",
   "metadata": {},
   "source": [
    "Для построения модели оставим только те данные, корреляция по модулю которых больше 0.1"
   ]
  },
  {
   "cell_type": "code",
   "execution_count": 246,
   "metadata": {},
   "outputs": [],
   "source": [
    "students = students.drop(['traveltime', 'famrel', 'freetime', 'health', 'absences', 'studytime, granular'], axis=1)"
   ]
  },
  {
   "cell_type": "code",
   "execution_count": 247,
   "metadata": {},
   "outputs": [
    {
     "name": "stdout",
     "output_type": "stream",
     "text": [
      "<class 'pandas.core.frame.DataFrame'>\n",
      "Int64Index: 377 entries, 0 to 394\n",
      "Data columns (total 12 columns):\n",
      " #   Column     Non-Null Count  Dtype  \n",
      "---  ------     --------------  -----  \n",
      " 0   sex        377 non-null    object \n",
      " 1   age        377 non-null    int64  \n",
      " 2   Medu       377 non-null    float64\n",
      " 3   Fedu       377 non-null    float64\n",
      " 4   Mjob       377 non-null    object \n",
      " 5   studytime  377 non-null    float64\n",
      " 6   failures   377 non-null    float64\n",
      " 7   paid       377 non-null    object \n",
      " 8   higher     377 non-null    object \n",
      " 9   romantic   377 non-null    object \n",
      " 10  goout      377 non-null    float64\n",
      " 11  score      377 non-null    float64\n",
      "dtypes: float64(6), int64(1), object(5)\n",
      "memory usage: 38.3+ KB\n"
     ]
    }
   ],
   "source": [
    "students.info()"
   ]
  },
  {
   "cell_type": "markdown",
   "metadata": {},
   "source": [
    "# Выводы"
   ]
  },
  {
   "cell_type": "markdown",
   "metadata": {},
   "source": [
    "В результате EDA для анализа влияния различных параметров жизни ученика на итоговую оценку были получены следующие выводы:\n",
    "    1. В данных достаточно много пустых значений. Почти все столбцы из итогового датасета были с пропущенными значениями, и были дополнены на основе функций от других столбцов.\n",
    "    2. Выбросы в количественных переменных age, absences были найдены и устранены. Данные достаточно чистые, т.к. из итогового датасета было удалено 18 (4.5%) записей.\n",
    "    3. Положительные корреляции score и Medu, Fedu, studytime говорит о том, что образование родителей и время, потраченное на учебу очень важны для итоговой оценки по предмету.\n",
    "    4. Отрицательные корреляции score и Age, failures говорит о том, что чем старше ученик и чем больше у него внеучебных неудач, тем сложнее ему сдать математику. Возможно, оказывают влияние романтические отношения.\n",
    "    5. Самые важные параметры, которые предлагается использовать в дальнейшем при построении модели это 'sex', 'age', 'Medu', 'Fedu', 'Mjob', 'traveltime', 'studytime', 'failures', 'paid', 'studytime, granular', 'higher', 'romantic', 'famrel', 'freetime', 'goout', 'health', 'absences', 'score'. При этом предпологается преобразование категориальных признаков в бинарные методом one-hot-encoding и нормализация данных. Итоговый датасет после преобразования данных пропусков не содержит."
   ]
  }
 ],
 "metadata": {
  "kernelspec": {
   "display_name": "Python 3",
   "language": "python",
   "name": "python3"
  },
  "language_info": {
   "codemirror_mode": {
    "name": "ipython",
    "version": 3
   },
   "file_extension": ".py",
   "mimetype": "text/x-python",
   "name": "python",
   "nbconvert_exporter": "python",
   "pygments_lexer": "ipython3",
   "version": "3.7.3"
  }
 },
 "nbformat": 4,
 "nbformat_minor": 4
}
